{
  "cells": [
    {
      "cell_type": "markdown",
      "metadata": {
        "id": "view-in-github",
        "colab_type": "text"
      },
      "source": [
        "<a href=\"https://colab.research.google.com/github/puneet-patel/Hello-World/blob/master/Copy_of_sanskrit_sandhi.ipynb\" target=\"_parent\"><img src=\"https://colab.research.google.com/assets/colab-badge.svg\" alt=\"Open In Colab\"/></a>"
      ]
    },
    {
      "cell_type": "code",
      "execution_count": null,
      "id": "b7a4c771",
      "metadata": {
        "id": "b7a4c771"
      },
      "outputs": [],
      "source": [
        "swar = ['अ', 'आ', 'इ', 'ई', 'उ', 'ऊ', 'ए', 'ऐ', 'ओ', 'औ', 'अं']"
      ]
    },
    {
      "cell_type": "code",
      "execution_count": null,
      "id": "51192e39",
      "metadata": {
        "id": "51192e39"
      },
      "outputs": [],
      "source": [
        "half = ['क्', 'ख्', 'ग्', 'घ्', 'ङ्',  'च्', 'छ्', 'ज्', 'झ्', 'ञ्', 'ट्', 'ठ्', 'ड्', 'ढ्', 'ण्', 'त्', 'थ्', 'द्', 'ध्', 'न्', 'प्', 'फ्', 'ब्', 'भ्', 'म्', 'य्', 'र्', 'ल्', 'व्', 'श्', 'ष्', 'स्', 'ह्']\n",
        "\n",
        "karkash = ['क', 'ख', 'च', 'छ', 'ट', 'ठ', 'त', 'थ', 'प', 'फ', 'श', 'ष', 'स']\n",
        "\n",
        "mrudu = ['ग', 'घ', 'ङ', 'ज', 'झ', 'ञ', 'ड', 'ढ', 'ण', 'द', 'ध', 'न', 'ब', 'भ', 'म', 'य', 'र', 'ल', 'व', 'ह']\n",
        "\n",
        "full = karkash + mrudu\n",
        "\n",
        "half_to_full = {'क्':'क', 'ख्':'ख', 'ग्':'ग', 'घ्':'घ', 'ङ्':'ङ',\n",
        "'च्':'च', 'छ्':'छ', 'ज्':'ज', 'झ्':'झ', 'ञ्':'ञ',\n",
        "'ट्':'ट', 'ठ्':'ठ', 'ड्':'ड', 'ढ्':'ढ', 'ण्':'ण',\n",
        "'त्':'त', 'थ्':'थ', 'द्':'द', 'ध्':'ध', 'न्':'न',\n",
        "'प्':'प', 'फ्':'फ', 'ब्':'ब', 'भ्':'भ', 'म्':'म',\n",
        "'य्':'य', 'र्':'र', 'ल्':'ल', 'व्':'व', 'श्':'श',\n",
        "'ष्':'ष', 'स्':'स', 'ह्':'ह'}"
      ]
    },
    {
      "cell_type": "code",
      "execution_count": null,
      "id": "c979f740",
      "metadata": {
        "id": "c979f740"
      },
      "outputs": [],
      "source": [
        "san = ['अ', 'आ']\n",
        "ikar = ['इ', 'ई']\n",
        "ukar = ['उ', 'ऊ']\n",
        "ekar = ['ए', 'ऐ']\n",
        "okar = ['ओ' , 'औ']\n",
        "swaradim = 'अं'\n",
        "swaradiah = 'अः'\n",
        "rkar = 'ऋ'\n",
        "rkara = 'ॠ'\n",
        "lkar = 'लृ'"
      ]
    },
    {
      "cell_type": "code",
      "execution_count": null,
      "id": "29912240",
      "metadata": {
        "id": "29912240"
      },
      "outputs": [],
      "source": [
        "add = 'ा'\n",
        "first_e = 'ि'\n",
        "second_e = 'ी'\n",
        "first_u = 'ु'\n",
        "second_u = 'ू'\n",
        "adde = 'े'\n",
        "addee = 'ै'\n",
        "addo = 'ो'\n",
        "addoo = 'ौ'\n",
        "addm = 'ं'\n",
        "addh = 'ः'\n",
        "first_r = ' ृ'\n",
        "second_r = ' ॄ'\n",
        "halant = '्'\n",
        "avagraha = 'ऽ'"
      ]
    },
    {
      "cell_type": "code",
      "execution_count": null,
      "id": "bf7f0cab",
      "metadata": {
        "id": "bf7f0cab"
      },
      "outputs": [],
      "source": [
        "swar_link = {'अ': '', 'आ': add, 'इ': first_e, 'ई': second_e, 'उ': first_u, 'ऊ': second_u, 'ए': adde, 'ऐ':addee, 'ओ': addo, 'औ': addoo, 'अं': addm}"
      ]
    },
    {
      "cell_type": "code",
      "execution_count": null,
      "id": "110a916e",
      "metadata": {
        "id": "110a916e"
      },
      "outputs": [],
      "source": [
        "panini_sutra = dict()\n",
        "sandhi_name = dict()"
      ]
    },
    {
      "cell_type": "code",
      "execution_count": null,
      "id": "94789007",
      "metadata": {
        "id": "94789007"
      },
      "outputs": [],
      "source": [
        "! > sandhi_result_code.txt\n",
        "import sys\n",
        "sys.stdout = open('sandhi_result_code.txt', 'w')"
      ]
    },
    {
      "cell_type": "code",
      "execution_count": null,
      "id": "1c353cfd",
      "metadata": {
        "id": "1c353cfd"
      },
      "outputs": [],
      "source": []
    },
    {
      "cell_type": "code",
      "execution_count": null,
      "id": "8a427e36",
      "metadata": {
        "id": "8a427e36"
      },
      "outputs": [],
      "source": [
        "# 1 स्वर (अच् सन्धि)"
      ]
    },
    {
      "cell_type": "code",
      "execution_count": null,
      "id": "9899377b",
      "metadata": {
        "id": "9899377b"
      },
      "outputs": [],
      "source": [
        "#1.1 सवर्ण दीर्घ"
      ]
    },
    {
      "cell_type": "code",
      "execution_count": null,
      "id": "8c17fd8a",
      "metadata": {
        "id": "8c17fd8a"
      },
      "outputs": [],
      "source": [
        "panini_sutra['1.1.1'] = 'अक: सवर्णे दीर्घ:'\n",
        "sandhi_name['1.1.1'] = 'सवर्ण_दीर्घ'\n",
        "# \"अ या आ\" के बाद \"अ या आ\" आवे तो दोनों के स्थान पर 'आ' दीर्घ\n",
        "\n",
        "for i in full:\n",
        "    for x in san:\n",
        "        print (i, x, i+add, '1.1.1', sandhi_name['1.1.1'])\n",
        "        print (i+add, x, i+add, '1.1.1', sandhi_name['1.1.1'])\n",
        "\n",
        "for i in half_to_full:\n",
        "    for x in san:\n",
        "        print (i, x, half_to_full[i]+add, '1.1.1', sandhi_name['1.1.1'])\n",
        "        print (i+add, x, half_to_full[i]+add, '1.1.1', sandhi_name['1.1.1'])"
      ]
    },
    {
      "cell_type": "code",
      "execution_count": null,
      "id": "2af0b00a",
      "metadata": {
        "id": "2af0b00a"
      },
      "outputs": [],
      "source": [
        "panini_sutra['1.1.2'] = 'अक: सवर्णे दीर्घ:'\n",
        "panini_sutra['1.1.3'] = 'अक: सवर्णे दीर्घ:'\n",
        "panini_sutra['1.1.4'] = 'अक: सवर्णे दीर्घ:'\n",
        "\n",
        "sandhi_name['1.1.2'] = 'सवर्ण_दीर्घ'\n",
        "sandhi_name['1.1.3'] = 'सवर्ण_दीर्घ'\n",
        "sandhi_name['1.1.4'] = 'सवर्ण_दीर्घ'\n",
        "\n",
        "#1.1.2\n",
        "print ('ि इ ी' , '1.1.2', sandhi_name['1.1.2'])\n",
        "print ('ी इ ी' , '1.1.2', sandhi_name['1.1.2'])\n",
        "print ('ि ई ी', '1.1.2', sandhi_name['1.1.2'])\n",
        "print ('ी ई ी', '1.1.2', sandhi_name['1.1.2'])\n",
        "\n",
        "#1.1.3\n",
        "print ('ु उ  ू', '1.1.3', sandhi_name['1.1.3'])\n",
        "print ('ु ऊ  ू', '1.1.3', sandhi_name['1.1.3'])\n",
        "print ('ू उ ू', '1.1.3', sandhi_name['1.1.3'])\n",
        "print ('ू ऊ ू', '1.1.3', sandhi_name['1.1.3'])\n",
        "\n",
        "#1.1.4\n",
        "print ('ृ ऋ ॄ', '1.1.4', sandhi_name['1.1.4'])"
      ]
    },
    {
      "cell_type": "code",
      "execution_count": null,
      "id": "65abf64a",
      "metadata": {
        "id": "65abf64a"
      },
      "outputs": [],
      "source": [
        "sandhi_name['1.2.1'] = 'गुण'\n",
        "panini_sutra['1.2.1'] = 'आद्गुण:'\n",
        "# \"अ\" अथवा \"आ\" के बाद \"इ या ई\" आवे तो दोनों के स्थान पर 'ए' गुण हो जाता है\n",
        "\n",
        "for i in full:\n",
        "    for x in ikar:\n",
        "        print (i, x, i+adde, '1.2.1' , sandhi_name['1.2.1'] )\n",
        "        print (i+add, x, i+adde, '1.2.1' , sandhi_name['1.2.1'] )"
      ]
    },
    {
      "cell_type": "code",
      "execution_count": null,
      "id": "07213cdc",
      "metadata": {
        "id": "07213cdc"
      },
      "outputs": [],
      "source": [
        "sandhi_name['1.2.2'] = 'गुण'\n",
        "panini_sutra['1.2.2'] = 'आद्गुण:'\n",
        "# नियम: यदि \"अ\" अथवा \"आ\" के बाद \"उ या ऊ\" आवे तो दोनों के स्थान पर 'ओ' गुण हो जाता है\n",
        "\n",
        "for i in full:\n",
        "    for x in ukar:\n",
        "        print (i, x, i+addo, '1.2.2', sandhi_name['1.2.2'] )\n",
        "        print (i+add, x, i+addo, '1.2.2', sandhi_name['1.2.2'] )"
      ]
    },
    {
      "cell_type": "code",
      "execution_count": null,
      "id": "d96c2fe8",
      "metadata": {
        "id": "d96c2fe8"
      },
      "outputs": [],
      "source": [
        "sandhi_name['1.2.3'] = 'गुण'\n",
        "panini_sutra['1.2.3'] = 'आद्गुण:'\n",
        "\n",
        "# नियम: यदि \"अ\" अथवा \"आ\" के बाद \"ऋ\"आवे तो दोनों के स्थान पर 'अर्' गुण हो जाता है,\n",
        "for i in full:\n",
        "    print (i, rkar, i+'र्', '1.2.3', sandhi_name['1.2.3'] )\n",
        "    print (i+add, rkar, i+'र्', '1.2.3', sandhi_name['1.2.3'] )"
      ]
    },
    {
      "cell_type": "code",
      "execution_count": null,
      "id": "936891aa",
      "metadata": {
        "id": "936891aa"
      },
      "outputs": [],
      "source": [
        "sandhi_name['1.2.4'] = 'गुण'\n",
        "panini_sutra['1.2.4'] = 'आद्गुण:'\n",
        "# नियम: यदि \"अ\" अथवा \"आ\" के बाद \"लृ\" आवे तो दोनों के स्थान पर \"अल्\" गुण हो जाता है,\n",
        "\n",
        "for i in full:\n",
        "    print (i, lkar, i+'ल्', '1.2.4', sandhi_name['1.2.4'] )\n",
        "    print (i+add, lkar, i+add+'ल्', '1.2.4', sandhi_name['1.2.4'] )"
      ]
    },
    {
      "cell_type": "code",
      "execution_count": null,
      "id": "eaec1486",
      "metadata": {
        "id": "eaec1486"
      },
      "outputs": [],
      "source": [
        "sandhi_name['1.3.1'] = 'यण'\n",
        "panini_sutra['1.3.1'] = 'इकोऽयणचि'\n",
        "# इ या ई के बाद कोई असमान स्वर आवे तो इ तथा ई के स्थान पर 'य्'\n",
        "\n",
        "second_swar_ikar = {'अ':'य' , 'अं':'यं', 'आ':'या', 'उ':'यु', 'ऊ':'यू', 'ए':'ये', 'ऐ':'यै', 'ओ':'यो', 'औ':'यौ'}\n",
        "first_swar_ikar = [first_e , second_e]\n",
        "\n",
        "for x in first_swar_ikar:\n",
        "    for y in second_swar_ikar:\n",
        "        print (x, y, halant+second_swar_ikar[y], '1.3.1', sandhi_name['1.3.1'] )"
      ]
    },
    {
      "cell_type": "code",
      "execution_count": null,
      "id": "e98c9aab",
      "metadata": {
        "id": "e98c9aab"
      },
      "outputs": [],
      "source": [
        "sandhi_name['1.3.2'] = 'यण'\n",
        "panini_sutra['1.3.2'] = 'इकोऽयणचि'\n",
        "# उ या ऊ के बाद कोई असमान शब्द आवे तो उ या ऊ के स्थान पर 'व'\n",
        "\n",
        "second_swar_ikar = {'अ':'व' , 'अं':'वं', 'आ': 'वा', 'इ': 'वि', 'ई': 'वी', 'ए':'वे', 'ऐ':'वै', 'ओ':'वो', 'औ':'वौ'}\n",
        "first_swar_ikar = [first_u , second_u]\n",
        "\n",
        "for x in first_swar_ikar:\n",
        "    for y in second_swar_ikar:\n",
        "        print (x, y, halant+second_swar_ikar[y], '1.3.2', sandhi_name['1.3.2'] )"
      ]
    },
    {
      "cell_type": "code",
      "execution_count": null,
      "id": "7cacc5f1",
      "metadata": {
        "id": "7cacc5f1"
      },
      "outputs": [],
      "source": [
        "sandhi_name['1.3.3'] = 'यण'\n",
        "panini_sutra['1.3.3'] = 'इकोऽयणचि'\n",
        "# ऋ के बाद कोई स्वर आवे तो ऋ के स्थान पर र\n",
        "\n",
        "second_swar_ikar = {'अ':'र' , 'अं':'रं', 'आ': 'रा', 'इ': 'रि', 'ई': 'री',  'उ':'रु', 'ऊ':'रू', 'ए':'रे', 'ऐ':'रै', 'ओ':'रो', 'औ':'रौ'}\n",
        "first_swar_ikar = [first_r, second_r]\n",
        "\n",
        "for x in first_swar_ikar:\n",
        "    for y in second_swar_ikar:\n",
        "        print (x, y, halant+second_swar_ikar[y], '1.3.3', sandhi_name['1.3.3'] )"
      ]
    },
    {
      "cell_type": "code",
      "execution_count": null,
      "id": "69220bb1",
      "metadata": {
        "id": "69220bb1"
      },
      "outputs": [],
      "source": [
        "sandhi_name['1.3.4'] = 'यण'\n",
        "panini_sutra['1.3.4'] = 'इकोऽयणचि'\n",
        "# लृ के बाद कोई स्वर आवे तो लृ के स्थान पर ल्\n",
        "\n",
        "second_swar_ikar = {'अ':'ल' , 'अं':'लं', 'आ': 'ला', 'इ': 'लि', 'ई': 'ली',  'उ':'लु', 'ऊ':'लू', 'ए':'ले', 'ऐ':'लै', 'ओ':'लो', 'औ':'लौ'}\n",
        "first_swar_ikar = [lkar]\n",
        "\n",
        "for x in first_swar_ikar:\n",
        "    for y in second_swar_ikar:\n",
        "        print (x, y, second_swar_ikar[y], '1.3.4', sandhi_name['1.3.4'] )"
      ]
    },
    {
      "cell_type": "code",
      "execution_count": null,
      "id": "09b82426",
      "metadata": {
        "id": "09b82426"
      },
      "outputs": [],
      "source": [
        "sandhi_name['1.4.1'] = 'वृद्धि'\n",
        "panini_sutra['1.4.1'] = 'वृद्धिरेचि'\n",
        "# अ अथवा आ के बाद ए अथवा ऐ आवे तो दोनों के स्थान पर अ/आ + ए/ऐ = ऐ वृद्धि हो जाती है\n",
        "\n",
        "for i in full:\n",
        "    for x in ekar:\n",
        "        print (i, x, i+addee, '1.4.1', sandhi_name['1.4.1'] )\n",
        "        print (i+add, x, i+addee, '1.4.1', sandhi_name['1.4.1'] )"
      ]
    },
    {
      "cell_type": "code",
      "execution_count": null,
      "id": "fdf1d741",
      "metadata": {
        "id": "fdf1d741"
      },
      "outputs": [],
      "source": [
        "sandhi_name['1.4.2'] = 'वृद्धि'\n",
        "panini_sutra['1.4.2'] = 'वृद्धिरेचि'\n",
        "for i in full:\n",
        "    for x in okar:\n",
        "        print (i, x, i+addoo, '1.4.2', sandhi_name['1.4.2'] )\n",
        "        print (i+add, x, i+addoo , '1.4.2', sandhi_name['1.4.2'] )"
      ]
    },
    {
      "cell_type": "code",
      "execution_count": null,
      "id": "5d086e46",
      "metadata": {
        "id": "5d086e46"
      },
      "outputs": [],
      "source": [
        "sandhi_name['1.4.3'] = 'वृद्धि'\n",
        "panini_sutra['1.4.3'] = 'वृद्धिरेचि'\n",
        "# अ अथवा आ का मेल ऋ से हो जावे तो अ/आ+ ऋ = आर्\n",
        "\n",
        "for i in full:\n",
        "    print (i, rkar, i+add+'र्', '1.4.3', sandhi_name['1.4.3'] )\n",
        "    print (i+add, rkar, i+add+'र्', '1.4.3', sandhi_name['1.4.3'] )"
      ]
    },
    {
      "cell_type": "code",
      "execution_count": null,
      "id": "20bd0e01",
      "metadata": {
        "id": "20bd0e01"
      },
      "outputs": [],
      "source": [
        "sandhi_name['1.5.1'] = 'अयादि'\n",
        "panini_sutra['1.5.1'] = 'एचोऽयवायाव:'\n",
        "# ए, ऐ, औ के बाद कोई भी स्वर आये तो उसके स्थान पर क्रमशः अय्, आय्, अव्, आव् ह\n",
        "\n",
        "first = {'े': 'य', 'ै': 'ाय', 'ो': 'व', 'ौ': 'ाव'}\n",
        "\n",
        "for f in full:\n",
        "    for i in first:\n",
        "        for x in swar_link:\n",
        "                print (f+i, x, f+first[i]+swar_link[x], '1.5.1', sandhi_name['1.5.1'] )"
      ]
    },
    {
      "cell_type": "code",
      "execution_count": null,
      "id": "b7523154",
      "metadata": {
        "id": "b7523154"
      },
      "outputs": [],
      "source": [
        "sandhi_name['1.6.1'] = 'पूर्वरूप'\n",
        "panini_sutra['1.6.1'] = 'एङः पदान्तादति'\n",
        "# पदान्ते स्थितस्य एकारस्य ओकारस्य वा ह्रस्वे अकारे परे द्वयोः वर्णयोः स्थाने पूर्वरूप्ः आदेशः भवति\n",
        "\n",
        "print ('े', 'अ', 'े'+avagraha, '1.6.1', sandhi_name['1.6.1'] )\n",
        "print ('ो', 'अ', 'ो'+avagraha, '1.6.1', sandhi_name['1.6.1'] )"
      ]
    },
    {
      "cell_type": "code",
      "execution_count": null,
      "id": "a9174cc1",
      "metadata": {
        "id": "a9174cc1"
      },
      "outputs": [],
      "source": [
        "sandhi_name['1.7.1'] = 'षत्व'\n",
        "panini_sutra['1.7.1'] = 'इण्कोः आदेशप्रत्ययोः'\n",
        "\n",
        "# स् से पहले 'अ,आ' से भिन्न कोई स्वर आ जाए तो स् - ष\n",
        "\n",
        "for k, v in swar_link.items():\n",
        "    if k not in ['अ' , 'आ']:\n",
        "        print (v, 'स',  v+'ष' , '1.7.1', sandhi_name['1.7.1'])"
      ]
    },
    {
      "cell_type": "code",
      "execution_count": null,
      "id": "33a37420",
      "metadata": {
        "id": "33a37420"
      },
      "outputs": [],
      "source": [
        "sandhi_name['1.7.2'] = 'षत्व'\n",
        "panini_sutra['1.7.2'] = 'इण्कोः आदेशप्रत्ययोः'\n",
        "\n",
        "others = ['य्', 'र्', 'ल्', 'व्', 'ह्', 'क्', 'ख्', 'ग्', 'घ्', 'ङ्', first_r, second_r]\n",
        "\n",
        "for i in others:\n",
        "    print (i, 'स',  i+'ष' , '1.7.2', sandhi_name['1.7.2'])"
      ]
    },
    {
      "cell_type": "code",
      "execution_count": null,
      "id": "45c191f0",
      "metadata": {
        "id": "45c191f0"
      },
      "outputs": [],
      "source": []
    },
    {
      "cell_type": "code",
      "execution_count": null,
      "id": "ee068e0c",
      "metadata": {
        "id": "ee068e0c"
      },
      "outputs": [],
      "source": [
        "sandhi_name['1.7.3'] = 'षत्व'\n",
        "panini_sutra['1.7.3'] = 'नुम्विसर्जनीयशर्यवायेऽपि'\n",
        "\n",
        "first = ['क', 'ख', 'ग', 'घ', 'ङ', first_e, second_e, first_u, second_u]\n",
        "second = ['न्', 'श्', 'ष्', 'स्', addm, addh]\n",
        "\n",
        "for i in first:\n",
        "    for i2 in second:\n",
        "        print (i+i2, 'स',  i+i2+'ष' , '1.7.3', sandhi_name['1.7.3'])"
      ]
    },
    {
      "cell_type": "code",
      "execution_count": null,
      "id": "a7c6cd17",
      "metadata": {
        "id": "a7c6cd17"
      },
      "outputs": [],
      "source": [
        "sandhi_name['1.7.4'] = 'षत्व'\n",
        "panini_sutra['1.7.4'] = 'उपसर्गात्सुनोतिसुवतिस्यति स्वञ्जाम्'\n",
        "\n",
        "first = ['वि', 'नि', 'अधि', 'अपि', 'अति', 'अभि', 'प्रति', 'परि', 'अनु', 'सु']\n",
        "link2 = {'त':'ट','थ':'ठ','द':'ड','ध':'ढ','न':'ण'}\n",
        "\n",
        "for i in first:\n",
        "    print (i, 'स',  i+'ष' , '1.7.4', sandhi_name['1.7.4'])\n",
        "    for i2 in link2:\n",
        "        print (i, 'स'+halant+i2,  i+'ष'+halant+link2[i2] , '1.7.4', sandhi_name['1.7.4'])"
      ]
    },
    {
      "cell_type": "code",
      "execution_count": null,
      "id": "dba347f4",
      "metadata": {
        "id": "dba347f4"
      },
      "outputs": [],
      "source": [
        "sandhi_name['1.7.5'] = 'षत्व'\n",
        "panini_sutra['1.7.5'] = 'सुबिनिदुर्थ्यः सुविसूतिसमाः'\n",
        "\n",
        "first = { 'निर्': 'निः', 'दुर्': 'दुः'}\n",
        "\n",
        "for i in first:\n",
        "    print (i, 'स',  first[i]+'ष' , '1.7.5', sandhi_name['1.7.5'])"
      ]
    },
    {
      "cell_type": "code",
      "execution_count": null,
      "id": "1e17bed5",
      "metadata": {
        "id": "1e17bed5"
      },
      "outputs": [],
      "source": [
        "sandhi_name['1.7.6'] = 'षत्व'\n",
        "panini_sutra['1.7.6'] = 'स्फुरतिस्फुलत्योर्निनिविभ्यः'\n",
        "\n",
        "first = ['निस्', 'नि', 'वि']\n",
        "second = {'स्फुर': 'ष्फुर', 'स्फुल': 'ष्फुल'}\n",
        "\n",
        "for x in first:\n",
        "    for y in second:\n",
        "        print (x, y, x+second[y], '1.7.6', sandhi_name['1.7.6'])\n",
        "        print (x, y, x+y, '1.7.6', sandhi_name['1.7.6'])"
      ]
    },
    {
      "cell_type": "code",
      "execution_count": null,
      "id": "194c82d3",
      "metadata": {
        "id": "194c82d3"
      },
      "outputs": [],
      "source": [
        "sandhi_name['1.7.7'] = 'षत्व'\n",
        "panini_sutra['1.7.7'] = 'निनदीभ्यां स्नातेः कौशले'\n",
        "\n",
        "print ('नि', 'स्न',  'निष्ण',  '1.7.7', sandhi_name['1.7.7'])\n",
        "print ('नदी', 'स्न',  'नदीष्ण',  '1.7.7', sandhi_name['1.7.7'])\n"
      ]
    },
    {
      "cell_type": "code",
      "execution_count": null,
      "id": "8fd9aa0e",
      "metadata": {
        "id": "8fd9aa0e"
      },
      "outputs": [],
      "source": [
        "sandhi_name['1.7.8'] = 'षत्व'\n",
        "panini_sutra['1.7.8'] = 'मातृपितृभ्यां स्वसा'\n",
        "\n",
        "print ('मातृ', 'स्व', 'मातृष्व', '1.7.8', sandhi_name['1.7.8'])\n",
        "print ('पितृ', 'स्व', 'पितृष्व', '1.7.8', sandhi_name['1.7.8'])\n"
      ]
    },
    {
      "cell_type": "code",
      "execution_count": null,
      "id": "f0436a39",
      "metadata": {
        "id": "f0436a39"
      },
      "outputs": [],
      "source": [
        "sandhi_name['1.7.9'] = 'षत्व'\n",
        "panini_sutra['1.7.9'] = 'गवियुधिभ्यां स्थिरः'\n",
        "\n",
        "print ('गवि', 'स्थिरः', 'गविष्ठिरः', '1.7.9', sandhi_name['1.7.9'])\n",
        "print ('युधि', 'स्थिरः', 'युधिष्ठिरः', '1.7.9', sandhi_name['1.7.9'])"
      ]
    },
    {
      "cell_type": "code",
      "execution_count": null,
      "id": "7641ab70",
      "metadata": {
        "id": "7641ab70"
      },
      "outputs": [],
      "source": []
    },
    {
      "cell_type": "code",
      "execution_count": null,
      "id": "5bf5ec2e",
      "metadata": {
        "id": "5bf5ec2e"
      },
      "outputs": [],
      "source": [
        "sandhi_name['1.8.1'] = 'वर्णमेलन'\n",
        "panini_sutra['1.8.1'] = 'sutra_unknown'\n",
        "\n",
        "for x in half_to_full:\n",
        "    for k in swar_link:\n",
        "        if k not in ['अ']:\n",
        "            print (x, k,  half_to_full[x]+swar_link[k], '1.8.1', sandhi_name['1.8.1'])\n",
        "        else:\n",
        "            print (x, k,  half_to_full[x], '1.8.1', sandhi_name['1.8.1'])"
      ]
    },
    {
      "cell_type": "code",
      "execution_count": null,
      "id": "0aa5e21c",
      "metadata": {
        "id": "0aa5e21c"
      },
      "outputs": [],
      "source": [
        "sandhi_name['1.9.1'] = 'प्रकृतिभाव'\n",
        "panini_sutra['1.9.1'] = 'ईदूदेद्द्विवचनं प्रगृह्यम्'\n",
        "\n",
        "for x in [second_e, second_u, adde]:\n",
        "    for y in swar_link:\n",
        "        print (x, y,  x+'_'+y, '1.9.1', sandhi_name['1.9.1'])"
      ]
    },
    {
      "cell_type": "code",
      "execution_count": null,
      "id": "af2af116",
      "metadata": {
        "id": "af2af116"
      },
      "outputs": [],
      "source": [
        "sandhi_name['1.10.1'] = 'पररूप'\n",
        "panini_sutra['1.10.1'] = 'ईदूदेद्द्विवचनं प्रगृह्यम्'\n",
        "\n",
        "print ('प्र','ए','प्रे', '1.10.1', sandhi_name['1.10.1'])\n",
        "print ('अप','ए','अपे', '1.10.1', sandhi_name['1.10.1'])\n",
        "print ('अव','ए','अवे', '1.10.1', sandhi_name['1.10.1'])\n",
        "print ('उप','ए','उपे', '1.10.1', sandhi_name['1.10.1'])\n",
        "print ('परा','ए','परे', '1.10.1', sandhi_name['1.10.1'])\n",
        "\n",
        "print ('प्र','ओ','प्रो', '1.10.1', sandhi_name['1.10.1'])\n",
        "print ('अप','ओ','अपो', '1.10.1', sandhi_name['1.10.1'])\n",
        "print ('अव','ओ','अवो', '1.10.1', sandhi_name['1.10.1'])\n",
        "print ('उप','ओ','उपो', '1.10.1', sandhi_name['1.10.1'])\n",
        "print ('परा','ओ','परो', '1.10.1', sandhi_name['1.10.1'])"
      ]
    },
    {
      "cell_type": "code",
      "execution_count": null,
      "id": "49761acc",
      "metadata": {
        "id": "49761acc"
      },
      "outputs": [],
      "source": [
        "sandhi_name['1.10.2'] = 'पररूप'\n",
        "panini_sutra['1.10.2'] = 'शकन्ध्वादिषु पररूपं वाच्यम्'\n",
        "\n",
        "print ('शक','अन्धुः','शकन्धुः', '1.10.2', sandhi_name['1.10.2'])\n",
        "print ('कर्क','अन्धुः','कर्कन्धुः', '1.10.2', sandhi_name['1.10.2'])\n",
        "print ('कुल','अटा','कुलटा', '1.10.2', sandhi_name['1.10.2'])\n",
        "print ('सीमन्','अन्तः','सीमन्त:', '1.10.2', sandhi_name['1.10.2'])\n",
        "print ('मनस्','ईषा','मनीषा', '1.10.2', sandhi_name['1.10.2'])\n",
        "print ('हल','ईषा','हलीषा', '1.10.2', sandhi_name['1.10.2'])\n",
        "print ('लाङ्गल','ईषा','लाङ्गलीषा', '1.10.2', sandhi_name['1.10.2'])\n",
        "print ('पतत्','अञ्जलिः','पतञ्जलिः', '1.10.2', sandhi_name['1.10.2'])\n",
        "print ('सार','अङ्गः','सारङ्गः', '1.10.2', sandhi_name['1.10.2'])\n",
        "print ('मृत','अण्ड','मृतण्डः', '1.10.2', sandhi_name['1.10.2'])"
      ]
    },
    {
      "cell_type": "code",
      "execution_count": null,
      "id": "8851185f",
      "metadata": {
        "id": "8851185f"
      },
      "outputs": [],
      "source": []
    },
    {
      "cell_type": "code",
      "execution_count": null,
      "id": "9cb0a0b6",
      "metadata": {
        "id": "9cb0a0b6"
      },
      "outputs": [],
      "source": [
        "## व्यंजन (हल् सन्धि)"
      ]
    },
    {
      "cell_type": "code",
      "execution_count": null,
      "id": "4a492167",
      "metadata": {
        "id": "4a492167"
      },
      "outputs": [],
      "source": [
        "sandhi_name['2.1.1'] = 'श्चुत्व'\n",
        "panini_sutra['2.1.1'] = 'श्तोश्चुनाश्चु'\n",
        "# स् अथवा त वर्ग (त, थ, द, ध, न) के बाद या पहले श् अथवा च वर्ग (च, छ, ज, झ, अ) हो तो स् को श्\n",
        "# त वर्ग  क्रमशः च वर्गीय अक्षर\n",
        "\n",
        "link1 = {'स्':'श्', 'त्': 'च्','थ्':'छ्','द्':'ज्','ध्':'झ्','न्':'ञ्'}\n",
        "\n",
        "for i, t in link1.items():\n",
        "    for k, v in link1.items():\n",
        "        print (i, v.replace(halant, ''),   t+v.replace(halant, ''), '2.1.1', sandhi_name['2.1.1'] )\n",
        "        print (t, k.replace(halant, ''), t+v.replace(halant, ''), '2.1.1', sandhi_name['2.1.1'] )"
      ]
    },
    {
      "cell_type": "code",
      "execution_count": null,
      "id": "d731a2b1",
      "metadata": {
        "id": "d731a2b1"
      },
      "outputs": [],
      "source": [
        "sandhi_name['2.2.1'] = 'ष्टुत्व'\n",
        "panini_sutra['2.2.1'] = 'ष्ट्र नाष्टुः'\n",
        "# स् अथवा त वर्ग (त, थ, द, ध, न) के बाद या पहले ष् अथवा ट वर्ग (ट, ठ, ड, ण) हो तो स्  का  ष्\n",
        "# त वर्ग क्रमशः ट वर्गीय अक्षर\n",
        "\n",
        "link2 = {'स्':'ष्', 'त्':'ट्','थ्':'ठ्','द्':'ड्','ध्':'ढ्','न्':'ण्'}\n",
        "\n",
        "for i, t in link2.items():\n",
        "    for k, v in link2.items():\n",
        "        print (i, v.replace(halant, ''),   t+v.replace(halant, ''), '2.2.1', sandhi_name['2.2.1'] )\n",
        "        print (t, k.replace(halant, ''), t+v.replace(halant, ''), '2.2.1', sandhi_name['2.2.1'] )"
      ]
    },
    {
      "cell_type": "code",
      "execution_count": null,
      "id": "2f903a1d",
      "metadata": {
        "id": "2f903a1d"
      },
      "outputs": [],
      "source": [
        "sandhi_name['2.3.1'] = 'जश्त्व'\n",
        "panini_sutra['2.3.1'] = 'झलां जशोऽन्ते'\n",
        "\n",
        "# प्रथम भाग-यदि वर्गों के पथम अक्षर (क, च, ट, त, प) के बाद घाव य, र, ल, व्, ह्) को छोड़कर कोई भी स्वर या व्यंजन वर्ण आता है तो वह\n",
        "# अपने वर्ग का तीसरा अक्षर (ग. ज. ड, द, ब) हो जाता हो\n",
        "\n",
        "# swar\n",
        "first = {'क्': 'ग', 'च्': 'ज', 'ट्': 'ड', 'त्': 'द', 'प्': 'ब', 'क': 'ग', 'च': 'ज', 'ट': 'ड', 'त': 'द', 'प': 'ब'}\n",
        "\n",
        "\n",
        "for x in first:\n",
        "    for y in swar_link:\n",
        "        print (x, y, first[x]+swar_link[y], '2.3.1', sandhi_name['2.3.1'] )"
      ]
    },
    {
      "cell_type": "code",
      "execution_count": null,
      "id": "f0aa017f",
      "metadata": {
        "id": "f0aa017f"
      },
      "outputs": [],
      "source": [
        "# vyanjan\n",
        "sandhi_name['2.4.1'] = 'जश्त्व'\n",
        "panini_sutra['2.4.1'] = 'झलां जशोऽन्ते'\n",
        "\n",
        "first = {'क्': 'ग्', 'ख्': 'ग्', 'ग्': 'ग्', 'घ्': 'ग्', 'च्': 'ज्', 'छ्': 'ज्', 'ज्': 'ज्', 'झ्': 'ज्',\n",
        "         'ट्': 'ड्', 'ठ्': 'ड्', 'ड्': 'ड्', 'ढ्': 'ड्', 'त्': 'द्', 'थ्': 'द्', 'द्': 'द्', 'ध्': 'द्',\n",
        "         'प्': 'ब्', 'फ्': 'ब्', 'ब्': 'ब्', 'भ्': 'ब्',\n",
        "         'श्': 'ष्', 'ष्': 'ष्', 'स्': 'ष्', 'ह्': 'ष्'}\n",
        "\n",
        "for x in first:\n",
        "    for y in full:\n",
        "        print (x, y, first[x]+y, '2.4.1', sandhi_name['2.4.1'] )"
      ]
    },
    {
      "cell_type": "code",
      "execution_count": null,
      "id": "0d052d66",
      "metadata": {
        "id": "0d052d66"
      },
      "outputs": [],
      "source": [
        "sandhi_name['2.4.2'] = 'जश्त्व'\n",
        "panini_sutra['2.4.2'] = 'झलां जशोऽन्ते'\n",
        "# द्वितीय भाग-यदि पद के मध्य में किसी भी वर्ग के चौथे (घ, झ्, ढ, धू, भ) व्यंजन वर्ण के ठीक बाद किसी वर्ग का चौथा वर्ण आता है तो वह पूर्व वाला चौथा व्यंजन वर्ण\n",
        "# अपने ही वर्ग का तीसरा व्यंजन वर्ण हो जाता है।\n",
        "\n",
        "# swar\n",
        "first = {'घ्': 'ग', 'झ्': 'ज', 'ढ्': 'ड', 'ध्': 'द', 'भ्': 'ब'}\n",
        "\n",
        "for x in first:\n",
        "    for y in swar_link:\n",
        "        print (x, y, first[x]+swar_link[y], '2.4.2', sandhi_name['2.4.2'] )"
      ]
    },
    {
      "cell_type": "code",
      "execution_count": null,
      "id": "17619973",
      "metadata": {
        "id": "17619973"
      },
      "outputs": [],
      "source": [
        "sandhi_name['2.4.3'] = 'जश्त्व'\n",
        "panini_sutra['2.4.3'] = 'झलां जशोऽन्ते'\n",
        "# vyanjan\n",
        "\n",
        "first = {'घ्': 'ग', 'झ्': 'ज', 'ढ्': 'ड', 'ध्': 'द', 'भ्': 'ब'}\n",
        "exclude = ['य', 'र', 'ल', 'व', 'ह']\n",
        "\n",
        "for x in first:\n",
        "    for y in full:\n",
        "        if y not in exclude:\n",
        "            print (x, y, first[x]+halant+y, '2.4.3', sandhi_name['2.4.3'] )"
      ]
    },
    {
      "cell_type": "code",
      "execution_count": null,
      "id": "a32f757a",
      "metadata": {
        "id": "a32f757a"
      },
      "outputs": [],
      "source": [
        "sandhi_name['2.5.1'] = 'चर्त्व'\n",
        "panini_sutra['2.5.1'] = 'खरि च'\n",
        "# झलों(वर्ग के १,२,३,४,ऊष्म) को चर्( १,उसी वर्ग के प्रथम अक्षर)होते हैं,बाद में खर्(१,२,श,ष,स)हों तो\n",
        "\n",
        "first = {'क्':'क्', 'ख्':'क्', 'ग्':'क्', 'घ्':'क्', 'च्':'च्', 'छ्':'च्', 'ज्':'च्', 'झ्':'च्',\n",
        "'ट्':'ट्', 'ठ्':'ट्', 'ड्':'ट्', 'ढ्':'ट्', 'त्':'त्', 'थ्':'त्', 'द्':'त्', 'ध्':'त्',\n",
        "'प्':'प्', 'फ्':'प्', 'ब्':'प्', 'भ्':'प्'}\n",
        "\n",
        "for x in first:\n",
        "    for y in karkash:\n",
        "        print (x, y, first[x]+y, '2.5.1', sandhi_name['2.5.1'] )"
      ]
    },
    {
      "cell_type": "code",
      "execution_count": null,
      "id": "7f56ef79",
      "metadata": {
        "id": "7f56ef79"
      },
      "outputs": [],
      "source": [
        "sandhi_name['2.6.1'] = 'अनुसार'\n",
        "panini_sutra['2.6.1'] = 'मोऽनुस्वारा'\n",
        "# अन्त में 'म्‘ वर्ण तथा उसके बाद कोई व्यंजन वर्ण आये तो म् का अनुसार (•) हो जाता है\n",
        "\n",
        "for i in full:\n",
        "    print ('म्', i, addm+i, '2.6.1', sandhi_name['2.6.1'] )"
      ]
    },
    {
      "cell_type": "code",
      "execution_count": null,
      "id": "e1b7913c",
      "metadata": {
        "id": "e1b7913c"
      },
      "outputs": [],
      "source": [
        "sandhi_name['2.7.1'] = 'अनुनासिक'\n",
        "panini_sutra['2.7.1'] = 'यरोऽनुनासिकेऽनुनासिको'\n",
        "# अन्त में किसी भी वर्ण के बाद कोई अनुनासिक (ङ, ञ, ण, न, म) आये पहले वाले वर्ण के\n",
        "# स्थान पर उसी वर्ग का पाँचवाँ वर्ण हो जाता है\n",
        "\n",
        "full_dict = {'क्':'ङ्', 'ख्': 'ङ्', 'ग्': 'ङ्', 'घ्': 'ङ्', 'ङ्':'ङ्',\n",
        "'च्': 'ञ्', 'छ्': 'ञ्', 'ज्': 'ञ्', 'झ्': 'ञ्', 'ञ्': 'ञ्',\n",
        "'ट्':  'ण्', 'ठ्': 'ण्', 'ड्': 'ण्', 'ढ्': 'ण्' , 'ण्': 'ण्',\n",
        "'त्': 'न्', 'थ्': 'न्', 'द्': 'न्', 'ध्': 'न्', 'न्': 'न्',\n",
        "'प्': 'म्', 'फ्': 'म्', 'ब्': 'म्', 'भ्': 'म्', 'म्': 'म्'}\n",
        "\n",
        "anunasik = ['ङ', 'ञ', 'ण', 'न', 'म']\n",
        "for x in full_dict:\n",
        "    for y in anunasik:\n",
        "        print (x, y, full_dict[x]+y, '2.7.1', sandhi_name['2.7.1'] )"
      ]
    },
    {
      "cell_type": "code",
      "execution_count": null,
      "id": "53ce281b",
      "metadata": {
        "id": "53ce281b"
      },
      "outputs": [],
      "source": [
        "sandhi_name['2.8.1'] = 'परसवर्ण'\n",
        "panini_sutra['2.8.1'] = 'अनुस्वारस्य ययि परसवर्णः वा पदान्तस्य'\n",
        "\n",
        "full_dict = {'क':'ङ्', 'ख': 'ङ्', 'ग': 'ङ्', 'घ': 'ङ्', 'ङ':'ङ्',\n",
        "'च': 'ञ्', 'छ': 'ञ्', 'ज': 'ञ्', 'झ': 'ञ्', 'ञ': 'ञ्',\n",
        "'ट':  'ण्', 'ठ': 'ण्', 'ड': 'ण्', 'ढ': 'ण्' , 'ण': 'ण्',\n",
        "'त': 'न्', 'थ': 'न्', 'द': 'न्', 'ध': 'न्', 'न': 'न्',\n",
        "'प': 'म्', 'फ': 'म्', 'ब': 'म्', 'भ': 'म्', 'म': 'म्'}\n",
        "\n",
        "\n",
        "for i in full_dict:\n",
        "        print (addm, i, full_dict[i]+i, '2.8.1', sandhi_name['2.8.1'] )"
      ]
    },
    {
      "cell_type": "code",
      "execution_count": null,
      "id": "bb7119aa",
      "metadata": {
        "id": "bb7119aa"
      },
      "outputs": [],
      "source": [
        "sandhi_name['2.9.1'] = 'नश्त्व'\n",
        "panini_sutra['2.9.1'] = 'नश्छव्य प्रशान'\n",
        "# नियम  सन्धि-यदि पद के अन्त में न् हो और उसके बाद च् छ् ट् ठ् त् थ् हों तो न के स्थान पर अनुस्वार (.)\n",
        "# और च् छ त् थ् ट ठ के स्थान पर श्च् श्छ्, स्त, स्थ्, ष्ट् ष्ठ हो जाते हैं\n",
        "\n",
        "nlinks = {'च':'श्च', 'छ':'श्छ', 'ट':'ष्ट', 'ठ':'ष्ठ', 'त':'स्त', 'थ':'स्थ'}\n",
        "\n",
        "for key, value in nlinks.items():\n",
        "    print ('न्', key, addm+value, '2.9.1', sandhi_name['2.9.1'] )"
      ]
    },
    {
      "cell_type": "code",
      "execution_count": null,
      "id": "fdbe3d4e",
      "metadata": {
        "id": "fdbe3d4e"
      },
      "outputs": [],
      "source": [
        "sandhi_name['2.10.1'] = 'ङमुडागम'\n",
        "panini_sutra['2.10.1'] = 'ङमो ह्रस्वादचि ङमुण्नित्यम्'\n",
        "\n",
        "# ह्रस्वस्वरात् परं विद्यमानानां ङ्, ण्, न् एतेषां वर्णानां स्वरे परे द्वित्यं भवति\n",
        "\n",
        "double = {'ङ':'ङ्', 'ण':'ण्', 'न':'न्'}\n",
        "\n",
        "for x in double:\n",
        "    for key, value in swar_link.items():\n",
        "        print (double[x], key, double[x]+x+value, '2.10.1', sandhi_name['2.10.1'] )"
      ]
    },
    {
      "cell_type": "code",
      "execution_count": null,
      "id": "649752cb",
      "metadata": {
        "id": "649752cb"
      },
      "outputs": [],
      "source": [
        "sandhi_name['2.11.1'] = 'छत्व'\n",
        "panini_sutra['2.11.1'] = 'शश्छोऽटि'\n",
        "\n",
        "link1 = {'स्':'श्', 'त्': 'च्','थ्':'छ्','द्':'ज्','ध्':'झ्','न्':'ञ्'}\n",
        "exclude = ['ङ्', 'ञ्', 'ण्', 'न्', 'म्', 'य्', 'श्', 'ष्', 'स्']\n",
        "second = ['', add, first_e, second_e, first_u, second_u, adde, addee, addo, addoo, addm,'य', 'र', 'ल', 'व', 'म', 'न' ]\n",
        "\n",
        "for x in half:\n",
        "    if x not in exclude:\n",
        "        for y in second:\n",
        "            print (x, 'श'+y, link1.get(x, x)+'छ'+y, '2.11.1', sandhi_name['2.11.1'] )"
      ]
    },
    {
      "cell_type": "code",
      "execution_count": null,
      "id": "56b1d055",
      "metadata": {
        "id": "56b1d055"
      },
      "outputs": [],
      "source": [
        "sandhi_name['2.12.1'] = 'तुगागम'\n",
        "sandhi_name['2.12.2'] = 'तुगागम'\n",
        "sandhi_name['2.12.3'] = 'तुगागम'\n",
        "sandhi_name['2.12.4'] = 'तुगागम'\n",
        "\n",
        "panini_sutra['2.12.1'] = 'छे च'\n",
        "panini_sutra['2.12.2'] = 'छे च'\n",
        "panini_sutra['2.12.3'] = 'छे च'\n",
        "panini_sutra['2.12.4'] = 'छे च'\n",
        "\n",
        "first_swar = [first_e, first_u, adde, addo]\n",
        "second_swar =  [add,second_e, second_u, addee, addoo]\n",
        "\n",
        "for x in full+swar:\n",
        "    print (x, 'छ' , x+'च्छ', '2.12.1', sandhi_name['2.12.1'] )\n",
        "    for y in first_swar:\n",
        "        print (x+y, 'छ' , x+y+'च्छ', '2.12.2', sandhi_name['2.12.2'] )\n",
        "    for y in second_swar:\n",
        "        print (x+y, 'छ' , x+y+'च्छ', '2.12.3', sandhi_name['2.12.3'] )\n",
        "        print (x+y, 'छ' , x+y+'छ', '2.12.4', sandhi_name['2.12.4'] )"
      ]
    },
    {
      "cell_type": "code",
      "execution_count": null,
      "id": "2d7df291",
      "metadata": {
        "id": "2d7df291"
      },
      "outputs": [],
      "source": [
        "sandhi_name['2.12.5'] = 'तुगागम'\n",
        "panini_sutra['2.12.5'] = 'शि तुक्'\n",
        "print ('न्', 'श', 'ञ्छ', '2.12.5', sandhi_name['2.12.5'] )"
      ]
    },
    {
      "cell_type": "code",
      "execution_count": null,
      "id": "108dd0e3",
      "metadata": {
        "id": "108dd0e3"
      },
      "outputs": [],
      "source": [
        "sandhi_name['2.13.1'] = 'पूर्वसवर्ण'\n",
        "panini_sutra['2.13.1'] = 'झयो होऽन्यतरस्याम्'\n",
        "first = {'क':'घ', 'ख':'घ', 'ग':'घ', 'घ':'घ', 'च':'झ', 'छ':'झ', 'ज':'झ', 'झ':'झ',  'ट':'ढ', 'ठ':'ढ', 'ड':'ढ', 'ढ':'ढ',\n",
        "         'त':'ध', 'थ':'ध',  'द':'ध', 'ध':'ध',  'प':'भ', 'फ':'भ',  'ब':'भ', 'भ':'भ'}\n",
        "\n",
        "for x in first:\n",
        "    if x == 'त':\n",
        "        print (x, 'ह', 'द'+halant+first[x], '2.13.1', sandhi_name['2.13.1'] )\n",
        "    else:\n",
        "        print (x, 'ह', x+halant+first[x], '2.13.1', sandhi_name['2.13.1'] )\n",
        "\n",
        "\n",
        "for x in first:\n",
        "    if x == 'त':\n",
        "        print ('त' + halant, 'ह', 'द'+halant+first[x], '2.13.1', sandhi_name['2.13.1'] )\n",
        "    else:\n",
        "        print (x + halant, 'ह', x+halant+first[x], '2.13.1', sandhi_name['2.13.1'] )\n"
      ]
    },
    {
      "cell_type": "code",
      "execution_count": null,
      "id": "469df694",
      "metadata": {
        "id": "469df694"
      },
      "outputs": [],
      "source": [
        "sandhi_name['2.14.1'] = 'लत्व'\n",
        "panini_sutra['2.14.1'] = 'तोर्लि'\n",
        "\n",
        "first = ['त', 'थ', 'द', 'ध', 'न','त्', 'थ्', 'द्', 'ध्', 'न्']\n",
        "\n",
        "for x in first:\n",
        "    if x in ['न', 'न्']:\n",
        "        print (x, 'ल', 'ँल्ल', '2.14.1', sandhi_name['2.14.1'] )\n",
        "    else:\n",
        "        print (x, 'ल', 'ल्ल', '2.14.1', sandhi_name['2.14.1'] )"
      ]
    },
    {
      "cell_type": "code",
      "execution_count": null,
      "id": "18b54d1e",
      "metadata": {
        "id": "18b54d1e"
      },
      "outputs": [],
      "source": [
        "sandhi_name['2.15.1'] = 'णत्व'\n",
        "panini_sutra['2.15.1'] = 'रषाभ्यां नो णः समानपदे'\n",
        "# र, ष् अथवा ‘ऋ’ के बाद ‘न्’ रहे तो उस (न्) का ‘ण’\n",
        "# चतुर्णाम्, पुष्णाति, वृक्षाणाम्। कृष्ण, विष्णु, स्वर्ण, वर्ण\n",
        "\n",
        "first = ['र्','ष्','ऋ']\n",
        "for x in first:\n",
        "    print (x, 'न', x+'ण', '2.15.1', sandhi_name['2.15.1'])"
      ]
    },
    {
      "cell_type": "code",
      "execution_count": null,
      "id": "52d0a71f",
      "metadata": {
        "id": "52d0a71f"
      },
      "outputs": [],
      "source": [
        "sandhi_name['2.15.2'] = 'णत्व'\n",
        "panini_sutra['2.15.2'] = 'अट्कुप्वानुम्व्यवायेऽपि'\n",
        "# अर्थात् ‘र’ और ‘ष’ के बाद किन्तु ‘न्’ से पहले अर्थात् दोनो के बीच अट् (अ, इ, उ, ऋ, लु, ए, ओ, ऐ औ, ह, य, व, र) वर्ण,\n",
        "# कु (क्, ख, ग, घ, ङ्), पु (प, फ, ब, भ, म्), आङ् तथा नुम् में से किसी वर्ण के रहने पर\n",
        "\n",
        "first = ['र','ष']\n",
        "for x in first:\n",
        "    for a, b in swar_link.items():\n",
        "        for a2, b2 in swar_link.items():\n",
        "            print (x+b, 'न'+b2, x+b+'ण'+b2, '2.15.2', sandhi_name['2.15.2'] )"
      ]
    },
    {
      "cell_type": "code",
      "execution_count": null,
      "id": "158133de",
      "metadata": {
        "id": "158133de"
      },
      "outputs": [],
      "source": [
        "sandhi_name['2.15.3'] = 'णत्व'\n",
        "panini_sutra['2.15.3'] = 'अट्कुप्वानुम्व्यवायेऽपि'\n",
        "# अर्थात् ‘र’ और ‘ष’ के बाद किन्तु ‘न्’ से पहले अर्थात् दोनो के बीच अट् (अ, इ, उ, ऋ, लु, ए, ओ, ऐ औ, ह, य, व, र) वर्ण,\n",
        "# कु (क्, ख, ग, घ, ङ्), पु (प, फ, ब, भ, म्), आङ् तथा नुम् में से किसी वर्ण के रहने पर\n",
        "\n",
        "first = ['र','ष','ऋ']\n",
        "second = ['ह', 'य', 'व', 'र', 'क', 'ख', 'ग', 'घ', 'ङ', 'प', 'फ', 'ब', 'भ', 'म']\n",
        "\n",
        "for x in first:\n",
        "    for a, b in swar_link.items():\n",
        "        for x2 in second:\n",
        "            for a2, b2 in swar_link.items():\n",
        "                for a3, b3 in swar_link.items():\n",
        "                    print (x+b+x2+b2, 'न'+b3, x+b+x2+b2+'ण'+b3, '2.15.3', sandhi_name['2.15.3'] )"
      ]
    },
    {
      "cell_type": "code",
      "execution_count": null,
      "id": "33d25d7c",
      "metadata": {
        "id": "33d25d7c"
      },
      "outputs": [],
      "source": [
        "sandhi_name['2.15.4'] = 'णत्व'\n",
        "panini_sutra['2.15.4'] = 'अट्कुप्वानुम्व्यवायेऽपि'\n",
        "# अर्थात् ‘र’ और ‘ष’ के बाद किन्तु ‘न्’ से पहले अर्थात् दोनो के बीच अट् (अ, इ, उ, ऋ, लु, ए, ओ, ऐ औ, ह, य, व, र) वर्ण,\n",
        "# कु (क्, ख, ग, घ, ङ्), पु (प, फ, ब, भ, म्), आङ् तथा नुम् में से किसी वर्ण के रहने पर\n",
        "\n",
        "second = ['ह', 'य', 'व', 'र', 'क', 'ख', 'ग', 'घ', 'ङ', 'प', 'फ', 'ब', 'भ', 'म']\n",
        "\n",
        "for x2 in second:\n",
        "    for a2, b2 in swar_link.items():\n",
        "        for a3, b3 in swar_link.items():\n",
        "            print ('ऋ'+x2+b2, 'न'+b3, 'ऋ'+x2+b2+'ण'+b3, '2.15.4', sandhi_name['2.15.4'] )"
      ]
    },
    {
      "cell_type": "code",
      "execution_count": null,
      "id": "dd7f1d73",
      "metadata": {
        "id": "dd7f1d73"
      },
      "outputs": [],
      "source": [
        "sandhi_name['2.16.1'] = 'वृद्धि'\n",
        "panini_sutra['2.16.1'] = 'एत्येधत्यूठ्सु'\n",
        "\n",
        "print ('अक्ष', 'ऊहिनी', 'अक्षौहिणी', '2.16.1', sandhi_name['2.16.1'])\n",
        "print ('स्व', 'ईर', 'स्वैर', '2.16.1', sandhi_name['2.16.1'])\n",
        "print ('प्र', 'ऊ', 'प्रौ', '2.16.1', sandhi_name['2.16.1'])\n",
        "print ('प्र', 'ए', 'प्रै', '2.16.1', sandhi_name['2.16.1'])\n",
        "print ('प्र', 'ईष', 'प्रेष', '2.16.1', sandhi_name['2.16.1'])\n",
        "print ('प्र', 'ऋण', 'प्रार्ण', '2.16.1', sandhi_name['2.16.1'])\n",
        "print ('वत्सतर', 'ऋण', 'वत्सतरार्ण', '2.16.1', sandhi_name['2.16.1'])\n",
        "print ('कम्बल', 'ऋण', 'कम्बलार्ण', '2.16.1', sandhi_name['2.16.1'])\n",
        "print ('वसन', 'ऋण', 'वसनार्ण', '2.16.1', sandhi_name['2.16.1'])\n",
        "print ('ऋण', 'ऋण', 'ऋणार्ण', '2.16.1', sandhi_name['2.16.1'])\n",
        "print ('दश', 'ऋण', 'दशार्ण', '2.16.1', sandhi_name['2.16.1'])\n",
        "\n",
        "for x in full:\n",
        "    print (x, 'ऋत', 'ार्त',   '2.16.1', sandhi_name['2.16.1'])"
      ]
    },
    {
      "cell_type": "code",
      "execution_count": null,
      "id": "effd6e65",
      "metadata": {
        "id": "effd6e65"
      },
      "outputs": [],
      "source": []
    },
    {
      "cell_type": "code",
      "execution_count": null,
      "id": "a8b0e877",
      "metadata": {
        "id": "a8b0e877"
      },
      "outputs": [],
      "source": [
        "## 3 विसर्ग सन्धि"
      ]
    },
    {
      "cell_type": "code",
      "execution_count": null,
      "id": "42c61806",
      "metadata": {
        "id": "42c61806"
      },
      "outputs": [],
      "source": [
        "sandhi_name['3.1.1'] = 'सत्व'\n",
        "panini_sutra['3.1.1'] = 'विसर्जनीयस्य सः'\n",
        "\n",
        "for x in karkash:\n",
        "    if x not in ['स', 'श', 'ष', 'च', 'छ', 'ट', 'ठ']:\n",
        "        print (addh, x, 'स्'+x, ' 3.1.1', sandhi_name['3.1.1'] )\n",
        "        print (':', x, 'स्'+x, ' 3.1.1', sandhi_name['3.1.1'] )"
      ]
    },
    {
      "cell_type": "code",
      "execution_count": null,
      "id": "8eb0b5f3",
      "metadata": {
        "id": "8eb0b5f3"
      },
      "outputs": [],
      "source": [
        "sandhi_name['3.1.2'] = 'षत्व'\n",
        "panini_sutra['3.1.2'] = 'विसर्जनीयस्य सः'\n",
        "\n",
        "print (first_e+addh, 'क', first_e+'ष्क', '3.1.2', sandhi_name['3.1.2'] )\n",
        "print (first_u+addh, 'क', first_u+'ष्क', '3.1.2', sandhi_name['3.1.2'] )\n",
        "print (first_e+addh, 'ख', first_e+'ष्ख', '3.1.2', sandhi_name['3.1.2'] )\n",
        "print (first_u+addh, 'ख', first_u+'ष्ख', '3.1.2', sandhi_name['3.1.2'] )\n",
        "print (first_e+addh, 'प', first_e+'ष्प', '3.1.2', sandhi_name['3.1.2'] )\n",
        "print (first_u+addh, 'प', first_u+'ष्प', '3.1.2', sandhi_name['3.1.2'] )\n",
        "print (first_e+addh, 'फ', first_e+'ष्फ', '3.1.2', sandhi_name['3.1.2'] )\n",
        "print (first_u+addh, 'फ', first_u+'ष्फ', '3.1.2', sandhi_name['3.1.2'] )\n",
        "\n",
        "print ('ः ट ष्ट', '3.1.2', sandhi_name['3.1.2'] )\n",
        "print ('ः ठ ष्ठ', '3.1.2', sandhi_name['3.1.2'] )\n",
        "\n",
        "print ('ः ष ःष', '3.1.2', sandhi_name['3.1.2'] )\n",
        "print ('ः ष ष्ष', '3.1.2', sandhi_name['3.1.2'] )\n",
        "\n",
        "print ('ः श ःश', '3.1.2', sandhi_name['3.1.2'] )\n",
        "print ('ः श श्श', '3.1.2', sandhi_name['3.1.2'] )\n",
        "\n",
        "print ('ः स ःस', '3.1.2', sandhi_name['3.1.2'] )\n",
        "print ('ः स स्स', '3.1.2', sandhi_name['3.1.2'] )\n",
        "\n",
        "print ('ः च श्च', '3.1.2', sandhi_name['3.1.2'] )\n",
        "print ('ः छ श्छ', '3.1.2', sandhi_name['3.1.2'] )\n",
        "\n",
        "\n",
        "# change to colon:\n",
        "\n",
        "print (': ट ष्ट', '3.1.2', sandhi_name['3.1.2'] )\n",
        "print (': ठ ष्ठ', '3.1.2', sandhi_name['3.1.2'] )\n",
        "\n",
        "print (': ष ःष', '3.1.2', sandhi_name['3.1.2'] )\n",
        "print (': ष ष्ष', '3.1.2', sandhi_name['3.1.2'] )\n",
        "\n",
        "print (': श ःश', '3.1.2', sandhi_name['3.1.2'] )\n",
        "print (': श श्श', '3.1.2', sandhi_name['3.1.2'] )\n",
        "\n",
        "print (': स ःस', '3.1.2', sandhi_name['3.1.2'] )\n",
        "print (': स स्स', '3.1.2', sandhi_name['3.1.2'] )\n",
        "\n",
        "print (': च श्च', '3.1.2', sandhi_name['3.1.2'] )\n",
        "print (': छ श्छ', '3.1.2', sandhi_name['3.1.2'] )"
      ]
    },
    {
      "cell_type": "code",
      "execution_count": null,
      "id": "efe7c53d",
      "metadata": {
        "id": "efe7c53d"
      },
      "outputs": [],
      "source": [
        "sandhi_name['3.2.2'] = 'रुत्व'\n",
        "panini_sutra['3.2.2'] = 'इचोऽशि विसर्गस्य रेफः'\n",
        "\n",
        "for i in full:\n",
        "    for y in mrudu:\n",
        "        for a, b in swar_link.items():\n",
        "            if a not in ['अ', 'आ']:\n",
        "                print (i+b+addh, y, i+b+'र्'+y,  ' 3.2.2', sandhi_name['3.2.2'] )"
      ]
    },
    {
      "cell_type": "code",
      "execution_count": null,
      "id": "ea1534b4",
      "metadata": {
        "id": "ea1534b4"
      },
      "outputs": [],
      "source": [
        "sandhi_name['3.2.2'] = 'रुत्व'\n",
        "panini_sutra['3.2.2'] = 'इचोऽशि विसर्गस्य रेफः'\n",
        "\n",
        "for i in full:\n",
        "    for x,y in swar_link.items():\n",
        "        for a, b in swar_link.items():\n",
        "            print (i+y+addh, a, i+y+'र'+b,  ' 3.2.2', sandhi_name['3.2.2'] )"
      ]
    },
    {
      "cell_type": "code",
      "execution_count": null,
      "id": "3cbbfeb7",
      "metadata": {
        "id": "3cbbfeb7"
      },
      "outputs": [],
      "source": [
        "sandhi_name['3.3.1'] = 'उत्व'\n",
        "panini_sutra['3.3.1'] = 'अतोरोरप्लुतादप्लुते'\n",
        "for x in full:\n",
        "    print (x+addh, 'अ', x+addo+avagraha, ' 3.3.1', sandhi_name['3.3.1'] )"
      ]
    },
    {
      "cell_type": "code",
      "execution_count": null,
      "id": "90b671ba",
      "metadata": {
        "id": "90b671ba"
      },
      "outputs": [],
      "source": [
        "sandhi_name['3.3.2'] = 'उत्व'\n",
        "panini_sutra['3.3.2'] = 'हशि च'\n",
        "for x in full:\n",
        "    for y in mrudu:\n",
        "        print (x+addh, y, x+addo+y, ' 3.3.2', sandhi_name['3.3.2'] )"
      ]
    },
    {
      "cell_type": "code",
      "execution_count": null,
      "id": "37a3af31",
      "metadata": {
        "id": "37a3af31"
      },
      "outputs": [],
      "source": [
        "sandhi_name['3.4.1'] = 'लोप'\n",
        "panini_sutra['3.4.1'] = '‘आतोऽशि विसर्गस्य लोपः'\n",
        "for y in swar+mrudu:\n",
        "    print (add+addh, y, add+y, ' 3.4.1', sandhi_name['3.4.1'] )"
      ]
    },
    {
      "cell_type": "code",
      "execution_count": null,
      "id": "f21e9590",
      "metadata": {
        "id": "f21e9590"
      },
      "outputs": [],
      "source": [
        "sandhi_name['3.4.2'] = 'लोप'\n",
        "panini_sutra['3.4.2'] = 'अतोऽनत्यचि विसर्ग लोपः'\n",
        "for x in full:\n",
        "    for y in swar:\n",
        "        if y != 'अ':\n",
        "            print (x+addh, y, x+y, ' 3.4.2', sandhi_name['3.4.1'] )"
      ]
    },
    {
      "cell_type": "code",
      "execution_count": null,
      "id": "d01a5b54",
      "metadata": {
        "id": "d01a5b54"
      },
      "outputs": [],
      "source": [
        "sandhi_name['3.4.3'] = 'लोप'\n",
        "panini_sutra['3.4.3'] = 'एतत्तदोः सुलोपोऽकोरनसमासे हलि'\n",
        "\n",
        "vlink = {'सः':'स', 'एषः':'एष'}\n",
        "for x in swar + full:\n",
        "    for key, value in vlink.items():\n",
        "        if x != 'अ':\n",
        "            print (key, x, value+x, ' 3.4.3', sandhi_name['3.4.3'] )"
      ]
    },
    {
      "cell_type": "code",
      "execution_count": null,
      "id": "8abc8215",
      "metadata": {
        "id": "8abc8215"
      },
      "outputs": [],
      "source": [
        "sandhi_name['3.4.4'] = 'लोप'\n",
        "panini_sutra['3.4.4'] = 'रो रि'\n",
        "\n",
        "for x in full:\n",
        "    print (x+addh, 'र', x+add+'र', ' 3.4.4', sandhi_name['3.4.4'] )\n",
        "    print (x+add+addh, 'र', x+add+'र', ' 3.4.4', sandhi_name['3.4.4'] )\n",
        "    print (x+first_e+addh, 'र',  x+second_e+'र', ' 3.4.4', sandhi_name['3.4.4'] )\n",
        "    print (x+second_e+addh, 'र',  x+second_e+'र', ' 3.4.4', sandhi_name['3.4.4'] )\n",
        "    print (x+first_u+addh, 'र',  x+second_u+'र', ' 3.4.4', sandhi_name['3.4.4'] )\n",
        "    print (x+second_u+addh, 'र',  x+second_u+'र', ' 3.4.4', sandhi_name['3.4.4'] )\n",
        "    print (x+adde+addh, 'र',  x+addee+'र', ' 3.4.4', sandhi_name['3.4.4'] )\n",
        "    print (x+addee+addh, 'र',  x+addee+'र', ' 3.4.4', sandhi_name['3.4.4'] )\n",
        "    print (x+addo+addh, 'र',  x+addoo+'र', ' 3.4.4', sandhi_name['3.4.4'] )\n",
        "    print (x+addoo+addh, 'र',  x+addoo+'र', ' 3.4.4', sandhi_name['3.4.4'] )"
      ]
    },
    {
      "cell_type": "code",
      "execution_count": null,
      "id": "77ab87b2",
      "metadata": {
        "id": "77ab87b2"
      },
      "outputs": [],
      "source": [
        "sandhi_name['3.5.1'] = 'visarg'\n",
        "panini_sutra['3.5.1'] = 'visarg'\n",
        "vlink = {'भोः':'भो', 'भगोः': 'भगो', 'अघोः': 'अघो'}\n",
        "for y in swar+mrudu:\n",
        "    for key, value in vlink.items():\n",
        "        print (key, y, value+y, '3.5.1', sandhi_name['3.5.1'] )"
      ]
    },
    {
      "cell_type": "code",
      "execution_count": null,
      "id": "36384d77",
      "metadata": {
        "id": "36384d77"
      },
      "outputs": [],
      "source": [
        "sandhi_name['3.6.1'] = 'no_sandhi'\n",
        "panini_sutra['3.6.1'] = 'शर्परे विसर्जनीयः'\n",
        "\n",
        "sharpare = list()\n",
        "for k in karkash:\n",
        "    for s in ['श', 'ष', 'स']:\n",
        "        z = k + halant + s\n",
        "        sharpare.append(z)"
      ]
    },
    {
      "cell_type": "code",
      "execution_count": null,
      "id": "6c4bae52",
      "metadata": {
        "id": "6c4bae52"
      },
      "outputs": [],
      "source": [
        "! sort -u sandhi_result_code.txt > sandhi_code_out.txt"
      ]
    },
    {
      "cell_type": "code",
      "execution_count": null,
      "id": "aa17824b",
      "metadata": {
        "id": "aa17824b"
      },
      "outputs": [],
      "source": [
        "#break code here"
      ]
    },
    {
      "cell_type": "code",
      "execution_count": null,
      "id": "3941f8ff",
      "metadata": {
        "colab": {
          "base_uri": "https://localhost:8080/"
        },
        "id": "3941f8ff",
        "outputId": "32b99a52-5351-48a6-d3f7-c53ef023d8bf"
      },
      "outputs": [
        {
          "output_type": "stream",
          "name": "stderr",
          "text": [
            "<ipython-input-85-3e92a54e0af1>:2: FutureWarning: The 'delim_whitespace' keyword in pd.read_csv is deprecated and will be removed in a future version. Use ``sep='\\s+'`` instead\n",
            "  df = pd.read_csv('sandhi_code_out.txt', delim_whitespace=True, low_memory=True, header=None)\n"
          ]
        }
      ],
      "source": [
        "import pandas as pd\n",
        "df = pd.read_csv('sandhi_code_out.txt', delim_whitespace=True, low_memory=True, header=None)"
      ]
    },
    {
      "cell_type": "code",
      "source": [
        "print(df)"
      ],
      "metadata": {
        "id": "wK7nn3Guz-pR"
      },
      "id": "wK7nn3Guz-pR",
      "execution_count": null,
      "outputs": []
    },
    {
      "cell_type": "code",
      "execution_count": null,
      "id": "0c16238e",
      "metadata": {
        "id": "0c16238e"
      },
      "outputs": [],
      "source": [
        "df.columns = ['a', 'b','c', 'd', 'e']"
      ]
    },
    {
      "cell_type": "code",
      "execution_count": null,
      "id": "05788e5c",
      "metadata": {
        "id": "05788e5c"
      },
      "outputs": [],
      "source": [
        "def sandhi_splitter(mystring):\n",
        "    mylist = list()\n",
        "    mydic = dict()\n",
        "    for x in [5,4,3,2,1]:\n",
        "        for i in df[df['c'].str.len() == x].c:\n",
        "            if i in mystring:\n",
        "                repc = df[df['c'] == i]['a'] + ' ' + df[df['c'] == i]['b']\n",
        "                repc2 = ' '.join(repc.tolist())\n",
        "                mylist.append(mystring.replace(i, repc2))\n",
        "    return set(mylist)"
      ]
    },
    {
      "cell_type": "code",
      "execution_count": null,
      "id": "aac22f8d",
      "metadata": {
        "id": "aac22f8d"
      },
      "outputs": [],
      "source": [
        "def _sandhi_builder(my):\n",
        "    mylist = list()\n",
        "    for i in my.split():\n",
        "        mylist.append(i)\n",
        "\n",
        "    final = list()\n",
        "    nelist = list()\n",
        "    check = mylist[0] + ' ' + mylist[1]\n",
        "    for i in [8,7,6,5,4,3,2,1]:\n",
        "        for p in [0,1,2,3,4,5,6,7]:\n",
        "            x = mylist[0][-i:]\n",
        "            y = mylist[1][:p]\n",
        "            if len(x) > 0 and len(y) > 0:\n",
        "                try:\n",
        "                    z = df[(df['a'] == x) & (df['b'] == y)]['c']\n",
        "                    if len(z) > 0:\n",
        "                        for myr in z:\n",
        "                            myt = [mylist[0][-i:], mylist[1][:p]]\n",
        "                            final.append(check.replace(' '.join(myt), myr))\n",
        "                except:\n",
        "                    pass\n",
        "    return set(final)"
      ]
    },
    {
      "cell_type": "code",
      "execution_count": null,
      "id": "9ecf696d",
      "metadata": {
        "id": "9ecf696d"
      },
      "outputs": [],
      "source": [
        "# https://stackoverflow.com/questions/76354521/recursive-function-in-pandas/\n",
        "\n",
        "# कृत्यचः\n",
        "# रकार से युक्त उपसर्ग के बाद कृत् प्रत्यय से बने शब्द में अच् (स्वर) वर्ण के बाद ‘न्’ रहे तो उसके स्थान में ‘ण’\n",
        "\n",
        "r_upsarg = ['प्र', 'परि', 'प्रति', 'दुर्', 'निर्']\n",
        "\n",
        "def sandhi_builder(x):\n",
        "    sandhi_long = x.split()\n",
        "\n",
        "    for i in r_upsarg:\n",
        "        if sandhi_long[0] == i:\n",
        "            sandhi_long[1] = sandhi_long[1].replace('न', 'ण')\n",
        "\n",
        "    return_set = set([sandhi_long[0]])  # Initialize with the first word\n",
        "\n",
        "    for kar in sharpare:\n",
        "        if sandhi_long[1].startswith(kar) and sandhi_long[0].endswith('ः'):\n",
        "            kar_list = []\n",
        "            kar_list.append(sandhi_long[0] + ' ' + sandhi_long[1])\n",
        "            return set(kar_list)\n",
        "\n",
        "    for lr in range(1, len(sandhi_long)):\n",
        "        tmp_list = []\n",
        "        for eachv in return_set:\n",
        "            return_set2 = _sandhi_builder(eachv + ' ' + sandhi_long[lr])\n",
        "            if return_set2:\n",
        "                tmp_list.extend(return_set2)\n",
        "            else:\n",
        "                tmp_list.append(eachv + sandhi_long[lr])\n",
        "        return_set = set(tmp_list)\n",
        "\n",
        "    return return_set"
      ]
    },
    {
      "cell_type": "code",
      "execution_count": null,
      "id": "f8cb3172",
      "metadata": {
        "colab": {
          "base_uri": "https://localhost:8080/"
        },
        "id": "f8cb3172",
        "outputId": "ae2af399-cbca-412c-f63e-4b3f677af684"
      },
      "outputs": [
        {
          "output_type": "execute_result",
          "data": {
            "text/plain": [
              "{'पित्रुपदेश'}"
            ]
          },
          "metadata": {},
          "execution_count": 91
        }
      ],
      "source": [
        "sandhi_builder('पितृ उपदेश')"
      ]
    },
    {
      "cell_type": "code",
      "execution_count": null,
      "id": "a52a6f85",
      "metadata": {
        "colab": {
          "base_uri": "https://localhost:8080/"
        },
        "id": "a52a6f85",
        "outputId": "30923d3c-6a1f-4b2c-8748-78907cf751a6"
      },
      "outputs": [
        {
          "output_type": "execute_result",
          "data": {
            "text/plain": [
              "{'उद्धरणानि', 'उद्हरणानि'}"
            ]
          },
          "metadata": {},
          "execution_count": 92
        }
      ],
      "source": [
        "sandhi_builder('उत् हरणानि')"
      ]
    },
    {
      "cell_type": "code",
      "source": [
        "sandhi_builder('सूर्य उदय')"
      ],
      "metadata": {
        "colab": {
          "base_uri": "https://localhost:8080/"
        },
        "id": "UiS6y8c30lDB",
        "outputId": "95df9770-97c7-49c1-bd39-380820ff3382"
      },
      "id": "UiS6y8c30lDB",
      "execution_count": null,
      "outputs": [
        {
          "output_type": "execute_result",
          "data": {
            "text/plain": [
              "{'सूर्योदय'}"
            ]
          },
          "metadata": {},
          "execution_count": 93
        }
      ]
    },
    {
      "cell_type": "code",
      "source": [
        "sandhi_builder('तस्मै इदम्') # na तस्माय इदम् -> तस्माइदम्"
      ],
      "metadata": {
        "colab": {
          "base_uri": "https://localhost:8080/"
        },
        "id": "OKiN7I-D04d2",
        "outputId": "570b8252-fcad-45f1-acb2-7fc0f075034c"
      },
      "id": "OKiN7I-D04d2",
      "execution_count": null,
      "outputs": [
        {
          "output_type": "execute_result",
          "data": {
            "text/plain": [
              "{'तस्मायिदम्'}"
            ]
          },
          "metadata": {},
          "execution_count": 94
        }
      ]
    },
    {
      "cell_type": "code",
      "source": [
        "sandhi_builder('पुनः रमते ') # प्रतिपदकं पुनर् योजनीयं"
      ],
      "metadata": {
        "colab": {
          "base_uri": "https://localhost:8080/"
        },
        "id": "eF7fsA2V4Klt",
        "outputId": "67fd0982-5086-46f4-cfbb-10cbef6e4d94"
      },
      "id": "eF7fsA2V4Klt",
      "execution_count": null,
      "outputs": [
        {
          "output_type": "execute_result",
          "data": {
            "text/plain": [
              "{'पुनारमते', 'पुनोरमते'}"
            ]
          },
          "metadata": {},
          "execution_count": 104
        }
      ]
    },
    {
      "cell_type": "code",
      "source": [
        "sandhi_builder('अमू आसाते') # संधी होत नाही म्हणून _"
      ],
      "metadata": {
        "colab": {
          "base_uri": "https://localhost:8080/"
        },
        "id": "Cr8TJirQ1hjb",
        "outputId": "34e19f0e-b270-4418-9e0b-d3b04980a5ff"
      },
      "id": "Cr8TJirQ1hjb",
      "execution_count": null,
      "outputs": [
        {
          "output_type": "execute_result",
          "data": {
            "text/plain": [
              "{'अमू_आसाते', 'अम्वासाते'}"
            ]
          },
          "metadata": {},
          "execution_count": 95
        }
      ]
    },
    {
      "cell_type": "code",
      "source": [],
      "metadata": {
        "id": "H2bE7z7a29uV"
      },
      "id": "H2bE7z7a29uV",
      "execution_count": null,
      "outputs": []
    },
    {
      "cell_type": "code",
      "execution_count": null,
      "id": "e3924ee1",
      "metadata": {
        "colab": {
          "base_uri": "https://localhost:8080/",
          "height": 489
        },
        "id": "e3924ee1",
        "outputId": "afc2e136-21a3-4722-8906-8c1bea2a062a"
      },
      "outputs": [
        {
          "output_type": "execute_result",
          "data": {
            "text/plain": [
              "d\n",
              "2.15.3    55902\n",
              "3.2.2      9933\n",
              "2.15.4     1694\n",
              "1.5.1      1452\n",
              "2.4.1       792\n",
              "          ...  \n",
              "1.7.5         2\n",
              "1.7.9         2\n",
              "1.6.1         2\n",
              "2.12.5        1\n",
              "1.1.4         1\n",
              "Name: count, Length: 65, dtype: int64"
            ],
            "text/html": [
              "<div>\n",
              "<style scoped>\n",
              "    .dataframe tbody tr th:only-of-type {\n",
              "        vertical-align: middle;\n",
              "    }\n",
              "\n",
              "    .dataframe tbody tr th {\n",
              "        vertical-align: top;\n",
              "    }\n",
              "\n",
              "    .dataframe thead th {\n",
              "        text-align: right;\n",
              "    }\n",
              "</style>\n",
              "<table border=\"1\" class=\"dataframe\">\n",
              "  <thead>\n",
              "    <tr style=\"text-align: right;\">\n",
              "      <th></th>\n",
              "      <th>count</th>\n",
              "    </tr>\n",
              "    <tr>\n",
              "      <th>d</th>\n",
              "      <th></th>\n",
              "    </tr>\n",
              "  </thead>\n",
              "  <tbody>\n",
              "    <tr>\n",
              "      <th>2.15.3</th>\n",
              "      <td>55902</td>\n",
              "    </tr>\n",
              "    <tr>\n",
              "      <th>3.2.2</th>\n",
              "      <td>9933</td>\n",
              "    </tr>\n",
              "    <tr>\n",
              "      <th>2.15.4</th>\n",
              "      <td>1694</td>\n",
              "    </tr>\n",
              "    <tr>\n",
              "      <th>1.5.1</th>\n",
              "      <td>1452</td>\n",
              "    </tr>\n",
              "    <tr>\n",
              "      <th>2.4.1</th>\n",
              "      <td>792</td>\n",
              "    </tr>\n",
              "    <tr>\n",
              "      <th>...</th>\n",
              "      <td>...</td>\n",
              "    </tr>\n",
              "    <tr>\n",
              "      <th>1.7.5</th>\n",
              "      <td>2</td>\n",
              "    </tr>\n",
              "    <tr>\n",
              "      <th>1.7.9</th>\n",
              "      <td>2</td>\n",
              "    </tr>\n",
              "    <tr>\n",
              "      <th>1.6.1</th>\n",
              "      <td>2</td>\n",
              "    </tr>\n",
              "    <tr>\n",
              "      <th>2.12.5</th>\n",
              "      <td>1</td>\n",
              "    </tr>\n",
              "    <tr>\n",
              "      <th>1.1.4</th>\n",
              "      <td>1</td>\n",
              "    </tr>\n",
              "  </tbody>\n",
              "</table>\n",
              "<p>65 rows × 1 columns</p>\n",
              "</div><br><label><b>dtype:</b> int64</label>"
            ]
          },
          "metadata": {},
          "execution_count": 96
        }
      ],
      "source": [
        "df.d.value_counts()"
      ]
    },
    {
      "cell_type": "code",
      "execution_count": null,
      "id": "ff7e3b8d",
      "metadata": {
        "colab": {
          "base_uri": "https://localhost:8080/",
          "height": 423
        },
        "id": "ff7e3b8d",
        "outputId": "ea0082c1-625a-4c4d-d43f-279dd4e4505e"
      },
      "outputs": [
        {
          "output_type": "execute_result",
          "data": {
            "text/plain": [
              "          a      b          c       d         e\n",
              "0      अक्ष  ऊहिनी  अक्षौहिणी  2.16.1    वृद्धि\n",
              "1      अघोः      अ       अघोअ   3.5.1    visarg\n",
              "2      अघोः     अं      अघोअं   3.5.1    visarg\n",
              "3      अघोः      आ       अघोआ   3.5.1    visarg\n",
              "4      अघोः      इ       अघोइ   3.5.1    visarg\n",
              "...     ...    ...        ...     ...       ...\n",
              "75351     े      स         ेष   1.7.1      षत्व\n",
              "75352     ै      स         ैष   1.7.1      षत्व\n",
              "75353     ो      अ         ोऽ   1.6.1  पूर्वरूप\n",
              "75354     ो      स         ोष   1.7.1      षत्व\n",
              "75355     ौ      स         ौष   1.7.1      षत्व\n",
              "\n",
              "[75356 rows x 5 columns]"
            ],
            "text/html": [
              "\n",
              "  <div id=\"df-630da9d7-a2b7-45a1-82b0-a15b592dafaa\" class=\"colab-df-container\">\n",
              "    <div>\n",
              "<style scoped>\n",
              "    .dataframe tbody tr th:only-of-type {\n",
              "        vertical-align: middle;\n",
              "    }\n",
              "\n",
              "    .dataframe tbody tr th {\n",
              "        vertical-align: top;\n",
              "    }\n",
              "\n",
              "    .dataframe thead th {\n",
              "        text-align: right;\n",
              "    }\n",
              "</style>\n",
              "<table border=\"1\" class=\"dataframe\">\n",
              "  <thead>\n",
              "    <tr style=\"text-align: right;\">\n",
              "      <th></th>\n",
              "      <th>a</th>\n",
              "      <th>b</th>\n",
              "      <th>c</th>\n",
              "      <th>d</th>\n",
              "      <th>e</th>\n",
              "    </tr>\n",
              "  </thead>\n",
              "  <tbody>\n",
              "    <tr>\n",
              "      <th>0</th>\n",
              "      <td>अक्ष</td>\n",
              "      <td>ऊहिनी</td>\n",
              "      <td>अक्षौहिणी</td>\n",
              "      <td>2.16.1</td>\n",
              "      <td>वृद्धि</td>\n",
              "    </tr>\n",
              "    <tr>\n",
              "      <th>1</th>\n",
              "      <td>अघोः</td>\n",
              "      <td>अ</td>\n",
              "      <td>अघोअ</td>\n",
              "      <td>3.5.1</td>\n",
              "      <td>visarg</td>\n",
              "    </tr>\n",
              "    <tr>\n",
              "      <th>2</th>\n",
              "      <td>अघोः</td>\n",
              "      <td>अं</td>\n",
              "      <td>अघोअं</td>\n",
              "      <td>3.5.1</td>\n",
              "      <td>visarg</td>\n",
              "    </tr>\n",
              "    <tr>\n",
              "      <th>3</th>\n",
              "      <td>अघोः</td>\n",
              "      <td>आ</td>\n",
              "      <td>अघोआ</td>\n",
              "      <td>3.5.1</td>\n",
              "      <td>visarg</td>\n",
              "    </tr>\n",
              "    <tr>\n",
              "      <th>4</th>\n",
              "      <td>अघोः</td>\n",
              "      <td>इ</td>\n",
              "      <td>अघोइ</td>\n",
              "      <td>3.5.1</td>\n",
              "      <td>visarg</td>\n",
              "    </tr>\n",
              "    <tr>\n",
              "      <th>...</th>\n",
              "      <td>...</td>\n",
              "      <td>...</td>\n",
              "      <td>...</td>\n",
              "      <td>...</td>\n",
              "      <td>...</td>\n",
              "    </tr>\n",
              "    <tr>\n",
              "      <th>75351</th>\n",
              "      <td>े</td>\n",
              "      <td>स</td>\n",
              "      <td>ेष</td>\n",
              "      <td>1.7.1</td>\n",
              "      <td>षत्व</td>\n",
              "    </tr>\n",
              "    <tr>\n",
              "      <th>75352</th>\n",
              "      <td>ै</td>\n",
              "      <td>स</td>\n",
              "      <td>ैष</td>\n",
              "      <td>1.7.1</td>\n",
              "      <td>षत्व</td>\n",
              "    </tr>\n",
              "    <tr>\n",
              "      <th>75353</th>\n",
              "      <td>ो</td>\n",
              "      <td>अ</td>\n",
              "      <td>ोऽ</td>\n",
              "      <td>1.6.1</td>\n",
              "      <td>पूर्वरूप</td>\n",
              "    </tr>\n",
              "    <tr>\n",
              "      <th>75354</th>\n",
              "      <td>ो</td>\n",
              "      <td>स</td>\n",
              "      <td>ोष</td>\n",
              "      <td>1.7.1</td>\n",
              "      <td>षत्व</td>\n",
              "    </tr>\n",
              "    <tr>\n",
              "      <th>75355</th>\n",
              "      <td>ौ</td>\n",
              "      <td>स</td>\n",
              "      <td>ौष</td>\n",
              "      <td>1.7.1</td>\n",
              "      <td>षत्व</td>\n",
              "    </tr>\n",
              "  </tbody>\n",
              "</table>\n",
              "<p>75356 rows × 5 columns</p>\n",
              "</div>\n",
              "    <div class=\"colab-df-buttons\">\n",
              "\n",
              "  <div class=\"colab-df-container\">\n",
              "    <button class=\"colab-df-convert\" onclick=\"convertToInteractive('df-630da9d7-a2b7-45a1-82b0-a15b592dafaa')\"\n",
              "            title=\"Convert this dataframe to an interactive table.\"\n",
              "            style=\"display:none;\">\n",
              "\n",
              "  <svg xmlns=\"http://www.w3.org/2000/svg\" height=\"24px\" viewBox=\"0 -960 960 960\">\n",
              "    <path d=\"M120-120v-720h720v720H120Zm60-500h600v-160H180v160Zm220 220h160v-160H400v160Zm0 220h160v-160H400v160ZM180-400h160v-160H180v160Zm440 0h160v-160H620v160ZM180-180h160v-160H180v160Zm440 0h160v-160H620v160Z\"/>\n",
              "  </svg>\n",
              "    </button>\n",
              "\n",
              "  <style>\n",
              "    .colab-df-container {\n",
              "      display:flex;\n",
              "      gap: 12px;\n",
              "    }\n",
              "\n",
              "    .colab-df-convert {\n",
              "      background-color: #E8F0FE;\n",
              "      border: none;\n",
              "      border-radius: 50%;\n",
              "      cursor: pointer;\n",
              "      display: none;\n",
              "      fill: #1967D2;\n",
              "      height: 32px;\n",
              "      padding: 0 0 0 0;\n",
              "      width: 32px;\n",
              "    }\n",
              "\n",
              "    .colab-df-convert:hover {\n",
              "      background-color: #E2EBFA;\n",
              "      box-shadow: 0px 1px 2px rgba(60, 64, 67, 0.3), 0px 1px 3px 1px rgba(60, 64, 67, 0.15);\n",
              "      fill: #174EA6;\n",
              "    }\n",
              "\n",
              "    .colab-df-buttons div {\n",
              "      margin-bottom: 4px;\n",
              "    }\n",
              "\n",
              "    [theme=dark] .colab-df-convert {\n",
              "      background-color: #3B4455;\n",
              "      fill: #D2E3FC;\n",
              "    }\n",
              "\n",
              "    [theme=dark] .colab-df-convert:hover {\n",
              "      background-color: #434B5C;\n",
              "      box-shadow: 0px 1px 3px 1px rgba(0, 0, 0, 0.15);\n",
              "      filter: drop-shadow(0px 1px 2px rgba(0, 0, 0, 0.3));\n",
              "      fill: #FFFFFF;\n",
              "    }\n",
              "  </style>\n",
              "\n",
              "    <script>\n",
              "      const buttonEl =\n",
              "        document.querySelector('#df-630da9d7-a2b7-45a1-82b0-a15b592dafaa button.colab-df-convert');\n",
              "      buttonEl.style.display =\n",
              "        google.colab.kernel.accessAllowed ? 'block' : 'none';\n",
              "\n",
              "      async function convertToInteractive(key) {\n",
              "        const element = document.querySelector('#df-630da9d7-a2b7-45a1-82b0-a15b592dafaa');\n",
              "        const dataTable =\n",
              "          await google.colab.kernel.invokeFunction('convertToInteractive',\n",
              "                                                    [key], {});\n",
              "        if (!dataTable) return;\n",
              "\n",
              "        const docLinkHtml = 'Like what you see? Visit the ' +\n",
              "          '<a target=\"_blank\" href=https://colab.research.google.com/notebooks/data_table.ipynb>data table notebook</a>'\n",
              "          + ' to learn more about interactive tables.';\n",
              "        element.innerHTML = '';\n",
              "        dataTable['output_type'] = 'display_data';\n",
              "        await google.colab.output.renderOutput(dataTable, element);\n",
              "        const docLink = document.createElement('div');\n",
              "        docLink.innerHTML = docLinkHtml;\n",
              "        element.appendChild(docLink);\n",
              "      }\n",
              "    </script>\n",
              "  </div>\n",
              "\n",
              "\n",
              "<div id=\"df-ca7c5356-64c2-4b29-855a-cd5f67753377\">\n",
              "  <button class=\"colab-df-quickchart\" onclick=\"quickchart('df-ca7c5356-64c2-4b29-855a-cd5f67753377')\"\n",
              "            title=\"Suggest charts\"\n",
              "            style=\"display:none;\">\n",
              "\n",
              "<svg xmlns=\"http://www.w3.org/2000/svg\" height=\"24px\"viewBox=\"0 0 24 24\"\n",
              "     width=\"24px\">\n",
              "    <g>\n",
              "        <path d=\"M19 3H5c-1.1 0-2 .9-2 2v14c0 1.1.9 2 2 2h14c1.1 0 2-.9 2-2V5c0-1.1-.9-2-2-2zM9 17H7v-7h2v7zm4 0h-2V7h2v10zm4 0h-2v-4h2v4z\"/>\n",
              "    </g>\n",
              "</svg>\n",
              "  </button>\n",
              "\n",
              "<style>\n",
              "  .colab-df-quickchart {\n",
              "      --bg-color: #E8F0FE;\n",
              "      --fill-color: #1967D2;\n",
              "      --hover-bg-color: #E2EBFA;\n",
              "      --hover-fill-color: #174EA6;\n",
              "      --disabled-fill-color: #AAA;\n",
              "      --disabled-bg-color: #DDD;\n",
              "  }\n",
              "\n",
              "  [theme=dark] .colab-df-quickchart {\n",
              "      --bg-color: #3B4455;\n",
              "      --fill-color: #D2E3FC;\n",
              "      --hover-bg-color: #434B5C;\n",
              "      --hover-fill-color: #FFFFFF;\n",
              "      --disabled-bg-color: #3B4455;\n",
              "      --disabled-fill-color: #666;\n",
              "  }\n",
              "\n",
              "  .colab-df-quickchart {\n",
              "    background-color: var(--bg-color);\n",
              "    border: none;\n",
              "    border-radius: 50%;\n",
              "    cursor: pointer;\n",
              "    display: none;\n",
              "    fill: var(--fill-color);\n",
              "    height: 32px;\n",
              "    padding: 0;\n",
              "    width: 32px;\n",
              "  }\n",
              "\n",
              "  .colab-df-quickchart:hover {\n",
              "    background-color: var(--hover-bg-color);\n",
              "    box-shadow: 0 1px 2px rgba(60, 64, 67, 0.3), 0 1px 3px 1px rgba(60, 64, 67, 0.15);\n",
              "    fill: var(--button-hover-fill-color);\n",
              "  }\n",
              "\n",
              "  .colab-df-quickchart-complete:disabled,\n",
              "  .colab-df-quickchart-complete:disabled:hover {\n",
              "    background-color: var(--disabled-bg-color);\n",
              "    fill: var(--disabled-fill-color);\n",
              "    box-shadow: none;\n",
              "  }\n",
              "\n",
              "  .colab-df-spinner {\n",
              "    border: 2px solid var(--fill-color);\n",
              "    border-color: transparent;\n",
              "    border-bottom-color: var(--fill-color);\n",
              "    animation:\n",
              "      spin 1s steps(1) infinite;\n",
              "  }\n",
              "\n",
              "  @keyframes spin {\n",
              "    0% {\n",
              "      border-color: transparent;\n",
              "      border-bottom-color: var(--fill-color);\n",
              "      border-left-color: var(--fill-color);\n",
              "    }\n",
              "    20% {\n",
              "      border-color: transparent;\n",
              "      border-left-color: var(--fill-color);\n",
              "      border-top-color: var(--fill-color);\n",
              "    }\n",
              "    30% {\n",
              "      border-color: transparent;\n",
              "      border-left-color: var(--fill-color);\n",
              "      border-top-color: var(--fill-color);\n",
              "      border-right-color: var(--fill-color);\n",
              "    }\n",
              "    40% {\n",
              "      border-color: transparent;\n",
              "      border-right-color: var(--fill-color);\n",
              "      border-top-color: var(--fill-color);\n",
              "    }\n",
              "    60% {\n",
              "      border-color: transparent;\n",
              "      border-right-color: var(--fill-color);\n",
              "    }\n",
              "    80% {\n",
              "      border-color: transparent;\n",
              "      border-right-color: var(--fill-color);\n",
              "      border-bottom-color: var(--fill-color);\n",
              "    }\n",
              "    90% {\n",
              "      border-color: transparent;\n",
              "      border-bottom-color: var(--fill-color);\n",
              "    }\n",
              "  }\n",
              "</style>\n",
              "\n",
              "  <script>\n",
              "    async function quickchart(key) {\n",
              "      const quickchartButtonEl =\n",
              "        document.querySelector('#' + key + ' button');\n",
              "      quickchartButtonEl.disabled = true;  // To prevent multiple clicks.\n",
              "      quickchartButtonEl.classList.add('colab-df-spinner');\n",
              "      try {\n",
              "        const charts = await google.colab.kernel.invokeFunction(\n",
              "            'suggestCharts', [key], {});\n",
              "      } catch (error) {\n",
              "        console.error('Error during call to suggestCharts:', error);\n",
              "      }\n",
              "      quickchartButtonEl.classList.remove('colab-df-spinner');\n",
              "      quickchartButtonEl.classList.add('colab-df-quickchart-complete');\n",
              "    }\n",
              "    (() => {\n",
              "      let quickchartButtonEl =\n",
              "        document.querySelector('#df-ca7c5356-64c2-4b29-855a-cd5f67753377 button');\n",
              "      quickchartButtonEl.style.display =\n",
              "        google.colab.kernel.accessAllowed ? 'block' : 'none';\n",
              "    })();\n",
              "  </script>\n",
              "</div>\n",
              "\n",
              "  <div id=\"id_90851dca-d82b-4dfa-b255-8581d39df549\">\n",
              "    <style>\n",
              "      .colab-df-generate {\n",
              "        background-color: #E8F0FE;\n",
              "        border: none;\n",
              "        border-radius: 50%;\n",
              "        cursor: pointer;\n",
              "        display: none;\n",
              "        fill: #1967D2;\n",
              "        height: 32px;\n",
              "        padding: 0 0 0 0;\n",
              "        width: 32px;\n",
              "      }\n",
              "\n",
              "      .colab-df-generate:hover {\n",
              "        background-color: #E2EBFA;\n",
              "        box-shadow: 0px 1px 2px rgba(60, 64, 67, 0.3), 0px 1px 3px 1px rgba(60, 64, 67, 0.15);\n",
              "        fill: #174EA6;\n",
              "      }\n",
              "\n",
              "      [theme=dark] .colab-df-generate {\n",
              "        background-color: #3B4455;\n",
              "        fill: #D2E3FC;\n",
              "      }\n",
              "\n",
              "      [theme=dark] .colab-df-generate:hover {\n",
              "        background-color: #434B5C;\n",
              "        box-shadow: 0px 1px 3px 1px rgba(0, 0, 0, 0.15);\n",
              "        filter: drop-shadow(0px 1px 2px rgba(0, 0, 0, 0.3));\n",
              "        fill: #FFFFFF;\n",
              "      }\n",
              "    </style>\n",
              "    <button class=\"colab-df-generate\" onclick=\"generateWithVariable('df')\"\n",
              "            title=\"Generate code using this dataframe.\"\n",
              "            style=\"display:none;\">\n",
              "\n",
              "  <svg xmlns=\"http://www.w3.org/2000/svg\" height=\"24px\"viewBox=\"0 0 24 24\"\n",
              "       width=\"24px\">\n",
              "    <path d=\"M7,19H8.4L18.45,9,17,7.55,7,17.6ZM5,21V16.75L18.45,3.32a2,2,0,0,1,2.83,0l1.4,1.43a1.91,1.91,0,0,1,.58,1.4,1.91,1.91,0,0,1-.58,1.4L9.25,21ZM18.45,9,17,7.55Zm-12,3A5.31,5.31,0,0,0,4.9,8.1,5.31,5.31,0,0,0,1,6.5,5.31,5.31,0,0,0,4.9,4.9,5.31,5.31,0,0,0,6.5,1,5.31,5.31,0,0,0,8.1,4.9,5.31,5.31,0,0,0,12,6.5,5.46,5.46,0,0,0,6.5,12Z\"/>\n",
              "  </svg>\n",
              "    </button>\n",
              "    <script>\n",
              "      (() => {\n",
              "      const buttonEl =\n",
              "        document.querySelector('#id_90851dca-d82b-4dfa-b255-8581d39df549 button.colab-df-generate');\n",
              "      buttonEl.style.display =\n",
              "        google.colab.kernel.accessAllowed ? 'block' : 'none';\n",
              "\n",
              "      buttonEl.onclick = () => {\n",
              "        google.colab.notebook.generateWithVariable('df');\n",
              "      }\n",
              "      })();\n",
              "    </script>\n",
              "  </div>\n",
              "\n",
              "    </div>\n",
              "  </div>\n"
            ],
            "application/vnd.google.colaboratory.intrinsic+json": {
              "type": "dataframe",
              "variable_name": "df",
              "summary": "{\n  \"name\": \"df\",\n  \"rows\": 75356,\n  \"fields\": [\n    {\n      \"column\": \"a\",\n      \"properties\": {\n        \"dtype\": \"category\",\n        \"num_unique_values\": 6058,\n        \"samples\": [\n          \"\\u090b\\u0942\\u0917\\u0941\",\n          \"\\u0937\\u094c\\u0930\",\n          \"\\u090b\\u0942\\u0919\\u0947\"\n        ],\n        \"semantic_type\": \"\",\n        \"description\": \"\"\n      }\n    },\n    {\n      \"column\": \"b\",\n      \"properties\": {\n        \"dtype\": \"category\",\n        \"num_unique_values\": 93,\n        \"samples\": [\n          \"\\u0928\\u093e\",\n          \"\\u0927\",\n          \"\\u0924\"\n        ],\n        \"semantic_type\": \"\",\n        \"description\": \"\"\n      }\n    },\n    {\n      \"column\": \"c\",\n      \"properties\": {\n        \"dtype\": \"string\",\n        \"num_unique_values\": 70872,\n        \"samples\": [\n          \"\\u090b\\u094c\\u092c\\u0947\\u0923\\u0942\",\n          \"\\u0937\\u093e\\u0919\\u094b\\u0923\\u0940\",\n          \"\\u0917\\u094d\\u092e\"\n        ],\n        \"semantic_type\": \"\",\n        \"description\": \"\"\n      }\n    },\n    {\n      \"column\": \"d\",\n      \"properties\": {\n        \"dtype\": \"object\",\n        \"num_unique_values\": 65,\n        \"samples\": [\n          \"2.15.2\",\n          \"1.3.2\",\n          \"2.16.1\"\n        ],\n        \"semantic_type\": \"\",\n        \"description\": \"\"\n      }\n    },\n    {\n      \"column\": \"e\",\n      \"properties\": {\n        \"dtype\": \"category\",\n        \"num_unique_values\": 29,\n        \"samples\": [\n          \"\\u092a\\u094d\\u0930\\u0915\\u0943\\u0924\\u093f\\u092d\\u093e\\u0935\",\n          \"\\u0935\\u0930\\u094d\\u0923\\u092e\\u0947\\u0932\\u0928\",\n          \"\\u092a\\u0930\\u0938\\u0935\\u0930\\u094d\\u0923\"\n        ],\n        \"semantic_type\": \"\",\n        \"description\": \"\"\n      }\n    }\n  ]\n}"
            }
          },
          "metadata": {},
          "execution_count": 105
        }
      ],
      "source": [
        "df"
      ]
    },
    {
      "cell_type": "code",
      "source": [
        "# prompt: Using dataframe df: e wise count\n",
        "\n",
        "# Group data by column 'e' and count occurrences\n",
        "e_wise_count = df.groupby('e').size()\n",
        "\n",
        "# Display the result\n",
        "e_wise_count\n"
      ],
      "metadata": {
        "colab": {
          "base_uri": "https://localhost:8080/",
          "height": 1000
        },
        "id": "sgAowjVj5Pmc",
        "outputId": "9e9aa7bf-c11e-48ba-9573-ee9eeac12af6"
      },
      "id": "sgAowjVj5Pmc",
      "execution_count": null,
      "outputs": [
        {
          "output_type": "execute_result",
          "data": {
            "text/plain": [
              "e\n",
              "visarg            93\n",
              "अनुनासिक         125\n",
              "अनुसार            33\n",
              "अयादि           1452\n",
              "उत्व             693\n",
              "गुण              396\n",
              "ङमुडागम           33\n",
              "चर्त्व           260\n",
              "छत्व             408\n",
              "जश्त्व          1097\n",
              "णत्व           57841\n",
              "तुगागम           661\n",
              "नश्त्व             6\n",
              "पररूप             20\n",
              "परसवर्ण           25\n",
              "पूर्वरूप           2\n",
              "पूर्वसवर्ण        40\n",
              "प्रकृतिभाव        33\n",
              "यण                69\n",
              "रुत्व           9933\n",
              "लत्व              10\n",
              "लोप              777\n",
              "वर्णमेलन         363\n",
              "वृद्धि           374\n",
              "श्चुत्व           72\n",
              "षत्व             183\n",
              "ष्टुत्व           72\n",
              "सत्व              12\n",
              "सवर्ण_दीर्घ      273\n",
              "dtype: int64"
            ],
            "text/html": [
              "<div>\n",
              "<style scoped>\n",
              "    .dataframe tbody tr th:only-of-type {\n",
              "        vertical-align: middle;\n",
              "    }\n",
              "\n",
              "    .dataframe tbody tr th {\n",
              "        vertical-align: top;\n",
              "    }\n",
              "\n",
              "    .dataframe thead th {\n",
              "        text-align: right;\n",
              "    }\n",
              "</style>\n",
              "<table border=\"1\" class=\"dataframe\">\n",
              "  <thead>\n",
              "    <tr style=\"text-align: right;\">\n",
              "      <th></th>\n",
              "      <th>0</th>\n",
              "    </tr>\n",
              "    <tr>\n",
              "      <th>e</th>\n",
              "      <th></th>\n",
              "    </tr>\n",
              "  </thead>\n",
              "  <tbody>\n",
              "    <tr>\n",
              "      <th>visarg</th>\n",
              "      <td>93</td>\n",
              "    </tr>\n",
              "    <tr>\n",
              "      <th>अनुनासिक</th>\n",
              "      <td>125</td>\n",
              "    </tr>\n",
              "    <tr>\n",
              "      <th>अनुसार</th>\n",
              "      <td>33</td>\n",
              "    </tr>\n",
              "    <tr>\n",
              "      <th>अयादि</th>\n",
              "      <td>1452</td>\n",
              "    </tr>\n",
              "    <tr>\n",
              "      <th>उत्व</th>\n",
              "      <td>693</td>\n",
              "    </tr>\n",
              "    <tr>\n",
              "      <th>गुण</th>\n",
              "      <td>396</td>\n",
              "    </tr>\n",
              "    <tr>\n",
              "      <th>ङमुडागम</th>\n",
              "      <td>33</td>\n",
              "    </tr>\n",
              "    <tr>\n",
              "      <th>चर्त्व</th>\n",
              "      <td>260</td>\n",
              "    </tr>\n",
              "    <tr>\n",
              "      <th>छत्व</th>\n",
              "      <td>408</td>\n",
              "    </tr>\n",
              "    <tr>\n",
              "      <th>जश्त्व</th>\n",
              "      <td>1097</td>\n",
              "    </tr>\n",
              "    <tr>\n",
              "      <th>णत्व</th>\n",
              "      <td>57841</td>\n",
              "    </tr>\n",
              "    <tr>\n",
              "      <th>तुगागम</th>\n",
              "      <td>661</td>\n",
              "    </tr>\n",
              "    <tr>\n",
              "      <th>नश्त्व</th>\n",
              "      <td>6</td>\n",
              "    </tr>\n",
              "    <tr>\n",
              "      <th>पररूप</th>\n",
              "      <td>20</td>\n",
              "    </tr>\n",
              "    <tr>\n",
              "      <th>परसवर्ण</th>\n",
              "      <td>25</td>\n",
              "    </tr>\n",
              "    <tr>\n",
              "      <th>पूर्वरूप</th>\n",
              "      <td>2</td>\n",
              "    </tr>\n",
              "    <tr>\n",
              "      <th>पूर्वसवर्ण</th>\n",
              "      <td>40</td>\n",
              "    </tr>\n",
              "    <tr>\n",
              "      <th>प्रकृतिभाव</th>\n",
              "      <td>33</td>\n",
              "    </tr>\n",
              "    <tr>\n",
              "      <th>यण</th>\n",
              "      <td>69</td>\n",
              "    </tr>\n",
              "    <tr>\n",
              "      <th>रुत्व</th>\n",
              "      <td>9933</td>\n",
              "    </tr>\n",
              "    <tr>\n",
              "      <th>लत्व</th>\n",
              "      <td>10</td>\n",
              "    </tr>\n",
              "    <tr>\n",
              "      <th>लोप</th>\n",
              "      <td>777</td>\n",
              "    </tr>\n",
              "    <tr>\n",
              "      <th>वर्णमेलन</th>\n",
              "      <td>363</td>\n",
              "    </tr>\n",
              "    <tr>\n",
              "      <th>वृद्धि</th>\n",
              "      <td>374</td>\n",
              "    </tr>\n",
              "    <tr>\n",
              "      <th>श्चुत्व</th>\n",
              "      <td>72</td>\n",
              "    </tr>\n",
              "    <tr>\n",
              "      <th>षत्व</th>\n",
              "      <td>183</td>\n",
              "    </tr>\n",
              "    <tr>\n",
              "      <th>ष्टुत्व</th>\n",
              "      <td>72</td>\n",
              "    </tr>\n",
              "    <tr>\n",
              "      <th>सत्व</th>\n",
              "      <td>12</td>\n",
              "    </tr>\n",
              "    <tr>\n",
              "      <th>सवर्ण_दीर्घ</th>\n",
              "      <td>273</td>\n",
              "    </tr>\n",
              "  </tbody>\n",
              "</table>\n",
              "</div><br><label><b>dtype:</b> int64</label>"
            ]
          },
          "metadata": {},
          "execution_count": 106
        }
      ]
    },
    {
      "cell_type": "code",
      "source": [],
      "metadata": {
        "id": "ahTAYlH25LVE"
      },
      "id": "ahTAYlH25LVE",
      "execution_count": null,
      "outputs": []
    },
    {
      "cell_type": "code",
      "execution_count": null,
      "id": "79a0d209",
      "metadata": {
        "id": "79a0d209"
      },
      "outputs": [],
      "source": []
    },
    {
      "cell_type": "code",
      "execution_count": null,
      "id": "f1694bb9",
      "metadata": {
        "colab": {
          "base_uri": "https://localhost:8080/"
        },
        "id": "f1694bb9",
        "outputId": "252ac010-3395-4655-ead6-b1610f912c77"
      },
      "outputs": [
        {
          "output_type": "execute_result",
          "data": {
            "text/plain": [
              "{'कश्चित्प्रमत्तःशापेनकान्ताविरहगुरुणास्वाधिकारप्रमत्तःशापेनमहिमावर्षभोग्येण',\n",
              " 'कश्चित्प्रमत्तःशापेनकान्ताविरहगुरुणास्वाधिकारप्रमत्तश्शापेनमहिमावर्षभोग्येण',\n",
              " 'कश्चित्प्रमत्तश्शापेनकान्ताविरहगुरुणास्वाधिकारप्रमत्तःशापेनमहिमावर्षभोग्येण',\n",
              " 'कश्चित्प्रमत्तश्शापेनकान्ताविरहगुरुणास्वाधिकारप्रमत्तश्शापेनमहिमावर्षभोग्येण',\n",
              " 'कश्चिद्प्रमत्तःशापेनकान्ताविरहगुरुणास्वाधिकारप्रमत्तःशापेनमहिमावर्षभोग्येण',\n",
              " 'कश्चिद्प्रमत्तःशापेनकान्ताविरहगुरुणास्वाधिकारप्रमत्तश्शापेनमहिमावर्षभोग्येण',\n",
              " 'कश्चिद्प्रमत्तश्शापेनकान्ताविरहगुरुणास्वाधिकारप्रमत्तःशापेनमहिमावर्षभोग्येण',\n",
              " 'कश्चिद्प्रमत्तश्शापेनकान्ताविरहगुरुणास्वाधिकारप्रमत्तश्शापेनमहिमावर्षभोग्येण'}"
            ]
          },
          "metadata": {},
          "execution_count": 97
        }
      ],
      "source": [
        "sandhi_builder('कश्चित् प्रमत्तः शापेन कान्ता विरह गुरुणा स्वाधिकार प्रमत्तः शापेन महिमा वर्ष भोग्येण')"
      ]
    },
    {
      "cell_type": "code",
      "execution_count": null,
      "id": "fdf4f03e",
      "metadata": {
        "colab": {
          "base_uri": "https://localhost:8080/"
        },
        "id": "fdf4f03e",
        "outputId": "82588fad-58ed-44e9-d2f8-67c183431596"
      },
      "outputs": [
        {
          "output_type": "execute_result",
          "data": {
            "text/plain": [
              "{'अतिततस्तमुपकारकमाचार्यमालोक्येश्वरभावनयाह'}"
            ]
          },
          "metadata": {},
          "execution_count": 98
        }
      ],
      "source": [
        "sandhi_builder(\"अति ततः तम् उपकारकम् आचार्यम् आलोक्य ईश्वर भावनया आह\")"
      ]
    },
    {
      "cell_type": "code",
      "execution_count": null,
      "id": "ef4fa2af",
      "metadata": {
        "colab": {
          "base_uri": "https://localhost:8080/"
        },
        "id": "ef4fa2af",
        "outputId": "23b8c91e-8dc0-4328-e5eb-93f193eea000"
      },
      "outputs": [
        {
          "output_type": "execute_result",
          "data": {
            "text/plain": [
              "{'सत्कार्य', 'सद्कार्य'}"
            ]
          },
          "metadata": {},
          "execution_count": 99
        }
      ],
      "source": [
        "sandhi_builder('सत् कार्य')"
      ]
    },
    {
      "cell_type": "code",
      "source": [
        "sandhi_builder('अमी ईषाः ')"
      ],
      "metadata": {
        "colab": {
          "base_uri": "https://localhost:8080/"
        },
        "id": "q4aRZb9p3fRd",
        "outputId": "09c08b87-a22c-4d37-c776-12e49b96e579"
      },
      "id": "q4aRZb9p3fRd",
      "execution_count": null,
      "outputs": [
        {
          "output_type": "execute_result",
          "data": {
            "text/plain": [
              "{'अमी_ईषाः', 'अमीषाः'}"
            ]
          },
          "metadata": {},
          "execution_count": 101
        }
      ]
    },
    {
      "cell_type": "code",
      "execution_count": null,
      "id": "0b3d422b",
      "metadata": {
        "id": "0b3d422b"
      },
      "outputs": [],
      "source": [
        "df.to_pickle('sandhi.pkl') ##?"
      ]
    }
  ],
  "metadata": {
    "kernelspec": {
      "display_name": "Python 3 (ipykernel)",
      "language": "python",
      "name": "python3"
    },
    "language_info": {
      "codemirror_mode": {
        "name": "ipython",
        "version": 3
      },
      "file_extension": ".py",
      "mimetype": "text/x-python",
      "name": "python",
      "nbconvert_exporter": "python",
      "pygments_lexer": "ipython3",
      "version": "3.10.12"
    },
    "vp": {
      "vp_config_version": "1.0.0",
      "vp_menu_width": 273,
      "vp_note_display": false,
      "vp_note_width": 0,
      "vp_position": {
        "width": 278
      },
      "vp_section_display": false,
      "vp_signature": "VisualPython"
    },
    "colab": {
      "provenance": [],
      "include_colab_link": true
    }
  },
  "nbformat": 4,
  "nbformat_minor": 5
}